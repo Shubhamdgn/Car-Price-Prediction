{
 "cells": [
  {
   "cell_type": "markdown",
   "metadata": {},
   "source": [
    "# Project Title : Car Price Prediction Project\n",
    "\n",
    "\n",
    "# Problem Statement:\n",
    "With the covid 19 impact in the market, we have seen lot of changes in the car market. Now some cars are in demand hence making them costly and some are not in demand hence cheaper. One of our clients works with small traders, who sell used cars. With the change in market due to covid 19 impact, our client is facing problems with their previous car price valuation machine learning models. So, they are looking for new machine learning models from new data. We have to make car price valuation model.\n",
    "\n",
    "# Business Goal:\n",
    "We need to build a machine learning model. Before model building do all data pre-processing steps. Try different models with different hyper parameters and select the best model."
   ]
  },
  {
   "cell_type": "code",
   "execution_count": 1,
   "metadata": {},
   "outputs": [],
   "source": [
    "#importing libraries\n",
    "import pandas as pd\n",
    "import numpy as np\n",
    "import matplotlib.pyplot as plt\n",
    "import seaborn as sn\n",
    "import warnings\n",
    "warnings.filterwarnings(\"ignore\")"
   ]
  },
  {
   "cell_type": "code",
   "execution_count": 2,
   "metadata": {},
   "outputs": [
    {
     "data": {
      "text/html": [
       "<div>\n",
       "<style scoped>\n",
       "    .dataframe tbody tr th:only-of-type {\n",
       "        vertical-align: middle;\n",
       "    }\n",
       "\n",
       "    .dataframe tbody tr th {\n",
       "        vertical-align: top;\n",
       "    }\n",
       "\n",
       "    .dataframe thead th {\n",
       "        text-align: right;\n",
       "    }\n",
       "</style>\n",
       "<table border=\"1\" class=\"dataframe\">\n",
       "  <thead>\n",
       "    <tr style=\"text-align: right;\">\n",
       "      <th></th>\n",
       "      <th>Unnamed: 0</th>\n",
       "      <th>Brand</th>\n",
       "      <th>Model</th>\n",
       "      <th>Variant</th>\n",
       "      <th>Year</th>\n",
       "      <th>Selling_Price</th>\n",
       "      <th>KM_Driven</th>\n",
       "      <th>Fuel</th>\n",
       "      <th>Transmission</th>\n",
       "      <th>Location</th>\n",
       "    </tr>\n",
       "  </thead>\n",
       "  <tbody>\n",
       "    <tr>\n",
       "      <th>0</th>\n",
       "      <td>0</td>\n",
       "      <td>Hyundai</td>\n",
       "      <td>i20</td>\n",
       "      <td>2012-2014 Magna Optional 1.2</td>\n",
       "      <td>2013</td>\n",
       "      <td>3,40,000</td>\n",
       "      <td>63,000 km</td>\n",
       "      <td>Petrol</td>\n",
       "      <td>Manual</td>\n",
       "      <td>Geeta Colony, Delhi, Delhi</td>\n",
       "    </tr>\n",
       "    <tr>\n",
       "      <th>1</th>\n",
       "      <td>1</td>\n",
       "      <td>Audi</td>\n",
       "      <td>A6</td>\n",
       "      <td>-</td>\n",
       "      <td>2016</td>\n",
       "      <td>26,50,000</td>\n",
       "      <td>72,000 km</td>\n",
       "      <td>Petrol</td>\n",
       "      <td>Automatic</td>\n",
       "      <td>Nandanam Nandanam, Chennai, Tamil Nadu</td>\n",
       "    </tr>\n",
       "    <tr>\n",
       "      <th>2</th>\n",
       "      <td>2</td>\n",
       "      <td>Maruti Suzuki</td>\n",
       "      <td>Alto 800</td>\n",
       "      <td>2012-2016 VXI</td>\n",
       "      <td>2016</td>\n",
       "      <td>2,95,000</td>\n",
       "      <td>37,739 km</td>\n",
       "      <td>Petrol</td>\n",
       "      <td>Manual</td>\n",
       "      <td>Andheri East, Mumbai, Maharashtra</td>\n",
       "    </tr>\n",
       "    <tr>\n",
       "      <th>3</th>\n",
       "      <td>3</td>\n",
       "      <td>Maruti Suzuki</td>\n",
       "      <td>Swift</td>\n",
       "      <td>-</td>\n",
       "      <td>2007</td>\n",
       "      <td>2,85,000</td>\n",
       "      <td>38,000 km</td>\n",
       "      <td>Petrol</td>\n",
       "      <td>Manual</td>\n",
       "      <td>Banaswadi Kasturi Nagar, Bengaluru, Karnataka</td>\n",
       "    </tr>\n",
       "    <tr>\n",
       "      <th>4</th>\n",
       "      <td>4</td>\n",
       "      <td>Maruti Suzuki</td>\n",
       "      <td>Swift Dzire</td>\n",
       "      <td>1.2 Vxi BSIV</td>\n",
       "      <td>2015</td>\n",
       "      <td>4,70,000</td>\n",
       "      <td>51,000 km</td>\n",
       "      <td>Petrol</td>\n",
       "      <td>Manual</td>\n",
       "      <td>Preet Vihar, Delhi, Delhi</td>\n",
       "    </tr>\n",
       "  </tbody>\n",
       "</table>\n",
       "</div>"
      ],
      "text/plain": [
       "   Unnamed: 0          Brand        Model                       Variant  Year  \\\n",
       "0           0        Hyundai          i20  2012-2014 Magna Optional 1.2  2013   \n",
       "1           1           Audi           A6                             -  2016   \n",
       "2           2  Maruti Suzuki     Alto 800                 2012-2016 VXI  2016   \n",
       "3           3  Maruti Suzuki        Swift                             -  2007   \n",
       "4           4  Maruti Suzuki  Swift Dzire                  1.2 Vxi BSIV  2015   \n",
       "\n",
       "  Selling_Price  KM_Driven    Fuel Transmission  \\\n",
       "0      3,40,000  63,000 km  Petrol       Manual   \n",
       "1     26,50,000  72,000 km  Petrol    Automatic   \n",
       "2      2,95,000  37,739 km  Petrol       Manual   \n",
       "3      2,85,000  38,000 km  Petrol       Manual   \n",
       "4      4,70,000  51,000 km  Petrol       Manual   \n",
       "\n",
       "                                        Location  \n",
       "0                     Geeta Colony, Delhi, Delhi  \n",
       "1         Nandanam Nandanam, Chennai, Tamil Nadu  \n",
       "2              Andheri East, Mumbai, Maharashtra  \n",
       "3  Banaswadi Kasturi Nagar, Bengaluru, Karnataka  \n",
       "4                      Preet Vihar, Delhi, Delhi  "
      ]
     },
     "execution_count": 2,
     "metadata": {},
     "output_type": "execute_result"
    }
   ],
   "source": [
    "#Loading the data-set\n",
    "df=pd.read_csv(\"used_car_data.csv\")\n",
    "df.head(5)"
   ]
  },
  {
   "cell_type": "code",
   "execution_count": 3,
   "metadata": {},
   "outputs": [
    {
     "data": {
      "text/plain": [
       "(18000, 10)"
      ]
     },
     "execution_count": 3,
     "metadata": {},
     "output_type": "execute_result"
    }
   ],
   "source": [
    "#checking the shape of the data-set\n",
    "df.shape"
   ]
  },
  {
   "cell_type": "markdown",
   "metadata": {},
   "source": [
    "# Data Pre-Processing :"
   ]
  },
  {
   "cell_type": "code",
   "execution_count": 4,
   "metadata": {},
   "outputs": [
    {
     "data": {
      "text/plain": [
       "-                                   1431\n",
       "2.8Z Automatic                       896\n",
       "Petrol HSE Dynamic                   450\n",
       "2.5 G (Diesel) 8 Seater              450\n",
       "Sportz (O) 1.4                       450\n",
       "1.6 SX Plus Auto                     450\n",
       "Smart Hybrid Alpha                   449\n",
       "i-VTEC S                             449\n",
       "1.2 Vxi BSIV                         449\n",
       "i-VTEC VX                            449\n",
       "LTZ                                  449\n",
       "2004-2011 2.5 G4 Diesel 7-seater     449\n",
       "2012-2015 85PS Diesel RxL            449\n",
       "5 STR With AC Plus HTR CNG           449\n",
       "2012 LTZ AT                          449\n",
       "Asta 1.2 (O)                         449\n",
       "VXI CNG                              448\n",
       "GLS                                  448\n",
       "2011-2014 VDI                        448\n",
       "1.1 GVS Option                       448\n",
       "SLX                                  448\n",
       "1.2 VX                               448\n",
       "2012-2014 Magna Optional 1.2         448\n",
       "2006-2010 LXI Minor                  448\n",
       "320d Sport                           448\n",
       "2012-2016 VXI                        447\n",
       "LXI BS IV                            447\n",
       "V                                    447\n",
       "Diesel LS                            447\n",
       "1.2 Magna Executive                  447\n",
       "1.5 TDCi Titanium Plus               446\n",
       "2011-2016 4x2 Manual                 446\n",
       "2009-2011 Lx BSIV                    446\n",
       "2009-2011 E4 BS IV                   446\n",
       "Era +                                445\n",
       "2009-2011 Cx BSIV                    444\n",
       "LXI Option                           443\n",
       "Name: Variant, dtype: int64"
      ]
     },
     "execution_count": 4,
     "metadata": {},
     "output_type": "execute_result"
    }
   ],
   "source": [
    "#checking the variant column\n",
    "df['Variant'].value_counts()"
   ]
  },
  {
   "cell_type": "markdown",
   "metadata": {},
   "source": [
    "# Observations :\n",
    "    'Unnamed: 0' is unwanted index column"
   ]
  },
  {
   "cell_type": "code",
   "execution_count": 5,
   "metadata": {},
   "outputs": [
    {
     "data": {
      "text/html": [
       "<div>\n",
       "<style scoped>\n",
       "    .dataframe tbody tr th:only-of-type {\n",
       "        vertical-align: middle;\n",
       "    }\n",
       "\n",
       "    .dataframe tbody tr th {\n",
       "        vertical-align: top;\n",
       "    }\n",
       "\n",
       "    .dataframe thead th {\n",
       "        text-align: right;\n",
       "    }\n",
       "</style>\n",
       "<table border=\"1\" class=\"dataframe\">\n",
       "  <thead>\n",
       "    <tr style=\"text-align: right;\">\n",
       "      <th></th>\n",
       "      <th>Brand</th>\n",
       "      <th>Model</th>\n",
       "      <th>Variant</th>\n",
       "      <th>Year</th>\n",
       "      <th>Selling_Price</th>\n",
       "      <th>KM_Driven</th>\n",
       "      <th>Fuel</th>\n",
       "      <th>Transmission</th>\n",
       "      <th>Location</th>\n",
       "    </tr>\n",
       "  </thead>\n",
       "  <tbody>\n",
       "    <tr>\n",
       "      <th>0</th>\n",
       "      <td>Hyundai</td>\n",
       "      <td>i20</td>\n",
       "      <td>2012-2014 Magna Optional 1.2</td>\n",
       "      <td>2013</td>\n",
       "      <td>3,40,000</td>\n",
       "      <td>63,000 km</td>\n",
       "      <td>Petrol</td>\n",
       "      <td>Manual</td>\n",
       "      <td>Geeta Colony, Delhi, Delhi</td>\n",
       "    </tr>\n",
       "    <tr>\n",
       "      <th>1</th>\n",
       "      <td>Audi</td>\n",
       "      <td>A6</td>\n",
       "      <td>-</td>\n",
       "      <td>2016</td>\n",
       "      <td>26,50,000</td>\n",
       "      <td>72,000 km</td>\n",
       "      <td>Petrol</td>\n",
       "      <td>Automatic</td>\n",
       "      <td>Nandanam Nandanam, Chennai, Tamil Nadu</td>\n",
       "    </tr>\n",
       "    <tr>\n",
       "      <th>2</th>\n",
       "      <td>Maruti Suzuki</td>\n",
       "      <td>Alto 800</td>\n",
       "      <td>2012-2016 VXI</td>\n",
       "      <td>2016</td>\n",
       "      <td>2,95,000</td>\n",
       "      <td>37,739 km</td>\n",
       "      <td>Petrol</td>\n",
       "      <td>Manual</td>\n",
       "      <td>Andheri East, Mumbai, Maharashtra</td>\n",
       "    </tr>\n",
       "    <tr>\n",
       "      <th>3</th>\n",
       "      <td>Maruti Suzuki</td>\n",
       "      <td>Swift</td>\n",
       "      <td>-</td>\n",
       "      <td>2007</td>\n",
       "      <td>2,85,000</td>\n",
       "      <td>38,000 km</td>\n",
       "      <td>Petrol</td>\n",
       "      <td>Manual</td>\n",
       "      <td>Banaswadi Kasturi Nagar, Bengaluru, Karnataka</td>\n",
       "    </tr>\n",
       "    <tr>\n",
       "      <th>4</th>\n",
       "      <td>Maruti Suzuki</td>\n",
       "      <td>Swift Dzire</td>\n",
       "      <td>1.2 Vxi BSIV</td>\n",
       "      <td>2015</td>\n",
       "      <td>4,70,000</td>\n",
       "      <td>51,000 km</td>\n",
       "      <td>Petrol</td>\n",
       "      <td>Manual</td>\n",
       "      <td>Preet Vihar, Delhi, Delhi</td>\n",
       "    </tr>\n",
       "  </tbody>\n",
       "</table>\n",
       "</div>"
      ],
      "text/plain": [
       "           Brand        Model                       Variant  Year  \\\n",
       "0        Hyundai          i20  2012-2014 Magna Optional 1.2  2013   \n",
       "1           Audi           A6                             -  2016   \n",
       "2  Maruti Suzuki     Alto 800                 2012-2016 VXI  2016   \n",
       "3  Maruti Suzuki        Swift                             -  2007   \n",
       "4  Maruti Suzuki  Swift Dzire                  1.2 Vxi BSIV  2015   \n",
       "\n",
       "  Selling_Price  KM_Driven    Fuel Transmission  \\\n",
       "0      3,40,000  63,000 km  Petrol       Manual   \n",
       "1     26,50,000  72,000 km  Petrol    Automatic   \n",
       "2      2,95,000  37,739 km  Petrol       Manual   \n",
       "3      2,85,000  38,000 km  Petrol       Manual   \n",
       "4      4,70,000  51,000 km  Petrol       Manual   \n",
       "\n",
       "                                        Location  \n",
       "0                     Geeta Colony, Delhi, Delhi  \n",
       "1         Nandanam Nandanam, Chennai, Tamil Nadu  \n",
       "2              Andheri East, Mumbai, Maharashtra  \n",
       "3  Banaswadi Kasturi Nagar, Bengaluru, Karnataka  \n",
       "4                      Preet Vihar, Delhi, Delhi  "
      ]
     },
     "execution_count": 5,
     "metadata": {},
     "output_type": "execute_result"
    }
   ],
   "source": [
    "#dropping the unwanted columns\n",
    "df.drop(['Unnamed: 0'], inplace=True, axis = 1)\n",
    "df.head(5)"
   ]
  },
  {
   "cell_type": "code",
   "execution_count": 6,
   "metadata": {},
   "outputs": [],
   "source": [
    "##changing the dtype and striping the unwanted commas,words from the data\n",
    "\n",
    "#Kilometers Driven\n",
    "df['KM_Driven'] = df['KM_Driven'].str.replace('km','')\n",
    "df['KM_Driven'] = df['KM_Driven'].str.replace(',','')\n",
    "df['KM_Driven'] = df['KM_Driven'].str.replace('-','0')\n",
    "\n",
    "#converting into int\n",
    "df['KM_Driven'] = df['KM_Driven'].astype(int)"
   ]
  },
  {
   "cell_type": "code",
   "execution_count": 7,
   "metadata": {},
   "outputs": [
    {
     "data": {
      "text/plain": [
       "65147.55127777778"
      ]
     },
     "execution_count": 7,
     "metadata": {},
     "output_type": "execute_result"
    }
   ],
   "source": [
    "#finding mean for kms driven\n",
    "kmsmean = df['KM_Driven'].mean()\n",
    "kmsmean"
   ]
  },
  {
   "cell_type": "code",
   "execution_count": 8,
   "metadata": {},
   "outputs": [],
   "source": [
    "#Replacing 0 with mean value in kms driven\n",
    "df['KM_Driven'] = df['KM_Driven'].apply(lambda x: x if x!=0 else kmsmean)"
   ]
  },
  {
   "cell_type": "code",
   "execution_count": 9,
   "metadata": {},
   "outputs": [],
   "source": [
    "#Price\n",
    "df['Selling_Price'] = df['Selling_Price'].str.strip()\n",
    "df['Selling_Price'] = df['Selling_Price'].str.replace(',','')\n",
    "df['Selling_Price'] = df['Selling_Price'].str.replace('-','0')\n",
    "\n",
    "#converting into float\n",
    "df['Selling_Price'] = df['Selling_Price'].astype(float)"
   ]
  },
  {
   "cell_type": "code",
   "execution_count": 10,
   "metadata": {},
   "outputs": [
    {
     "data": {
      "text/plain": [
       "662853.2136111112"
      ]
     },
     "execution_count": 10,
     "metadata": {},
     "output_type": "execute_result"
    }
   ],
   "source": [
    "#finding mean for kms driven\n",
    "pricemean = df['Selling_Price'].mean()\n",
    "pricemean"
   ]
  },
  {
   "cell_type": "code",
   "execution_count": 11,
   "metadata": {},
   "outputs": [],
   "source": [
    "#Replacing 0 with mean value in kms driven\n",
    "df['Selling_Price'] = df['Selling_Price'].apply(lambda x: x if x!=0 else pricemean)"
   ]
  },
  {
   "cell_type": "code",
   "execution_count": 12,
   "metadata": {},
   "outputs": [],
   "source": [
    "#Year_of_Manufacturing\n",
    "df['Year'] = df['Year'].apply(lambda x: int(x.strip()[0:4]) if x!='-' else 0)\n",
    "\n",
    "# median year\n",
    "median_year=df['Year'].median()\n",
    "\n",
    "#Replacing 0 with median value\n",
    "df['Year'] = df['Year'].apply(lambda x: x if x!=0 else median_year)\n",
    "\n",
    "#converting into int\n",
    "df['Year'] = df['Year'].astype(int)"
   ]
  },
  {
   "cell_type": "code",
   "execution_count": 13,
   "metadata": {},
   "outputs": [
    {
     "data": {
      "text/plain": [
       "Petrol           9400\n",
       "Diesel           7168\n",
       "CNG & Hybrids    1345\n",
       "-                  87\n",
       "Name: Fuel, dtype: int64"
      ]
     },
     "execution_count": 13,
     "metadata": {},
     "output_type": "execute_result"
    }
   ],
   "source": [
    "# Fuel Type\n",
    "\n",
    "df['Fuel'].value_counts()"
   ]
  },
  {
   "cell_type": "code",
   "execution_count": 14,
   "metadata": {},
   "outputs": [
    {
     "data": {
      "text/plain": [
       "0    Petrol\n",
       "dtype: object"
      ]
     },
     "execution_count": 14,
     "metadata": {},
     "output_type": "execute_result"
    }
   ],
   "source": [
    "# mode for fuel\n",
    "Fuel_mode = df['Fuel'].mode()\n",
    "Fuel_mode"
   ]
  },
  {
   "cell_type": "code",
   "execution_count": 15,
   "metadata": {},
   "outputs": [
    {
     "data": {
      "text/plain": [
       "Petrol           9487\n",
       "Diesel           7168\n",
       "CNG & Hybrids    1345\n",
       "Name: Fuel, dtype: int64"
      ]
     },
     "execution_count": 15,
     "metadata": {},
     "output_type": "execute_result"
    }
   ],
   "source": [
    "# Fuel type \n",
    "df['Fuel'] = df['Fuel'].apply(lambda x: x if x!='-' else 0)\n",
    "\n",
    "#Replacing 0 with mode value\n",
    "df['Fuel'] = df['Fuel'].apply(lambda x: x if x!=0 else \"Petrol\")\n",
    "\n",
    "df['Fuel'].value_counts()"
   ]
  },
  {
   "cell_type": "code",
   "execution_count": 16,
   "metadata": {},
   "outputs": [
    {
     "data": {
      "text/plain": [
       "Manual       14772\n",
       "Automatic     3141\n",
       "-               87\n",
       "Name: Transmission, dtype: int64"
      ]
     },
     "execution_count": 16,
     "metadata": {},
     "output_type": "execute_result"
    }
   ],
   "source": [
    "# Transmission Type\n",
    "df['Transmission'].value_counts()"
   ]
  },
  {
   "cell_type": "code",
   "execution_count": 17,
   "metadata": {},
   "outputs": [
    {
     "data": {
      "text/plain": [
       "Manual       14859\n",
       "Automatic     3141\n",
       "Name: Transmission, dtype: int64"
      ]
     },
     "execution_count": 17,
     "metadata": {},
     "output_type": "execute_result"
    }
   ],
   "source": [
    "#replacing the \"-\" with manual\n",
    "df['Transmission'] = df['Transmission'].apply(lambda x: x if x!='-' else 'Manual')\n",
    "\n",
    "df['Transmission'].value_counts()"
   ]
  },
  {
   "cell_type": "code",
   "execution_count": 18,
   "metadata": {},
   "outputs": [
    {
     "data": {
      "text/plain": [
       "Maruti Suzuki    4476\n",
       "Hyundai          3585\n",
       "Toyota           2689\n",
       "Honda            1345\n",
       "Chevrolet        1345\n",
       "Mahindra         1342\n",
       "Tata              890\n",
       "Land Rover        450\n",
       "Renault           449\n",
       "Audi              448\n",
       "BMW               448\n",
       "Ford              446\n",
       "-                  87\n",
       "Name: Brand, dtype: int64"
      ]
     },
     "execution_count": 18,
     "metadata": {},
     "output_type": "execute_result"
    }
   ],
   "source": [
    "# Brand\n",
    "df['Brand'].value_counts()"
   ]
  },
  {
   "cell_type": "code",
   "execution_count": 19,
   "metadata": {},
   "outputs": [
    {
     "data": {
      "text/plain": [
       "Maruti Suzuki    4476\n",
       "Hyundai          3585\n",
       "Toyota           2689\n",
       "Honda            1345\n",
       "Chevrolet        1345\n",
       "Mahindra         1342\n",
       "Tata              890\n",
       "Land Rover        450\n",
       "Renault           449\n",
       "Audi              448\n",
       "BMW               448\n",
       "Ford              446\n",
       "others             87\n",
       "Name: Brand, dtype: int64"
      ]
     },
     "execution_count": 19,
     "metadata": {},
     "output_type": "execute_result"
    }
   ],
   "source": [
    "#replacing the \"-\" with others\n",
    "df['Brand'] = df['Brand'].apply(lambda x: x if x!='-' else 'others')\n",
    "df['Brand'].value_counts()"
   ]
  },
  {
   "cell_type": "code",
   "execution_count": 20,
   "metadata": {},
   "outputs": [
    {
     "data": {
      "text/plain": [
       "Elite i20             899\n",
       "Innova                899\n",
       "Cruze                 898\n",
       "City                  898\n",
       "Innova Crysta         896\n",
       "Swift                 896\n",
       "i20                   895\n",
       "Swift Dzire           892\n",
       "Nano                  890\n",
       "Range Rover Evoque    450\n",
       "Creta                 450\n",
       "Ciaz                  449\n",
       "Duster                449\n",
       "Eeco                  449\n",
       "Santro Xing           448\n",
       "Wagon R               448\n",
       "Ertiga                448\n",
       "3 Series              448\n",
       "XUV300                448\n",
       "A6                    448\n",
       "Bolero                448\n",
       "Getz Prime            448\n",
       "Etios Liva            448\n",
       "Beat                  447\n",
       "Zen Estilo            447\n",
       "Civic                 447\n",
       "Alto 800              447\n",
       "Xylo                  446\n",
       "Ecosport              446\n",
       "Fortuner              446\n",
       "EON                   445\n",
       "-                      87\n",
       "Name: Model, dtype: int64"
      ]
     },
     "execution_count": 20,
     "metadata": {},
     "output_type": "execute_result"
    }
   ],
   "source": [
    "# Model\n",
    "df['Model'].value_counts()"
   ]
  },
  {
   "cell_type": "code",
   "execution_count": 21,
   "metadata": {},
   "outputs": [
    {
     "data": {
      "text/plain": [
       "Elite i20             899\n",
       "Innova                899\n",
       "Cruze                 898\n",
       "City                  898\n",
       "Innova Crysta         896\n",
       "Swift                 896\n",
       "i20                   895\n",
       "Swift Dzire           892\n",
       "Nano                  890\n",
       "Range Rover Evoque    450\n",
       "Creta                 450\n",
       "Eeco                  449\n",
       "Duster                449\n",
       "Ciaz                  449\n",
       "Etios Liva            448\n",
       "Santro Xing           448\n",
       "Wagon R               448\n",
       "Ertiga                448\n",
       "XUV300                448\n",
       "A6                    448\n",
       "Bolero                448\n",
       "Getz Prime            448\n",
       "3 Series              448\n",
       "Zen Estilo            447\n",
       "Beat                  447\n",
       "Civic                 447\n",
       "Alto 800              447\n",
       "Xylo                  446\n",
       "Ecosport              446\n",
       "Fortuner              446\n",
       "EON                   445\n",
       "others                 87\n",
       "Name: Model, dtype: int64"
      ]
     },
     "execution_count": 21,
     "metadata": {},
     "output_type": "execute_result"
    }
   ],
   "source": [
    "#replacing the \"-\" with others in Model\n",
    "df['Model'] = df['Model'].apply(lambda x: x if x!='-' else 'others')\n",
    "df['Model'].value_counts()"
   ]
  },
  {
   "cell_type": "code",
   "execution_count": 22,
   "metadata": {},
   "outputs": [
    {
     "data": {
      "text/plain": [
       "Sector 37, Gurgaon, Haryana                      1345\n",
       "Pimpri Chinchwad, Pune, Maharashtra              1343\n",
       "Moonnamkutty, Kollam, Kerala                      896\n",
       "Banaswadi Kasturi Nagar, Bengaluru, Karnataka     895\n",
       "BTM Layout, Bengaluru, Karnataka                  893\n",
       "Kalkaji, Delhi, Delhi                             893\n",
       "Dwarka, Delhi, Delhi                              892\n",
       "Udhana Gam, Surat, Gujarat                        450\n",
       "Greater Kailash 1, Delhi, Delhi                   450\n",
       "Airoli, Navi Mumbai, Maharashtra                  450\n",
       "Preet Vihar, Delhi, Delhi                         449\n",
       "Greater Noida West, Noida, Uttar Pradesh          449\n",
       "Netaji Subhash Place, Delhi, Delhi                449\n",
       "Thane West, Thane, Maharashtra                    449\n",
       "Varun Niketan, Delhi, Delhi                       449\n",
       "Indira Nagar, Bengaluru, Karnataka                449\n",
       "Tilak Nagar, Delhi, Delhi                         449\n",
       "Kankurgachhi, Kolkata, West Bengal                449\n",
       "Sector 19D, Chandigarh, Chandigarh                448\n",
       "Godhra GIDC, Godhra, Gujarat                      448\n",
       "Nandanam Nandanam, Chennai, Tamil Nadu            448\n",
       "Sector 8B, Chandigarh, Chandigarh                 448\n",
       "Patel Nagar 3, Ghaziabad, Uttar Pradesh           448\n",
       "Geeta Colony, Delhi, Delhi                        448\n",
       "Umiya Chowk, Rajkot, Gujarat                      448\n",
       "MG Road, Indore, Madhya Pradesh                   447\n",
       "Andheri East, Mumbai, Maharashtra                 447\n",
       "Rajendra Place, Delhi, Delhi                      447\n",
       "Ashok Vihar, Delhi, Delhi                         446\n",
       "Chelamattom, Perumbavoor, Kerala                  446\n",
       "Kalase Nagar, Mohol, Maharashtra                  445\n",
       "-                                                  87\n",
       "Name: Location, dtype: int64"
      ]
     },
     "execution_count": 22,
     "metadata": {},
     "output_type": "execute_result"
    }
   ],
   "source": [
    "# Location\n",
    "df['Location'].value_counts()"
   ]
  },
  {
   "cell_type": "code",
   "execution_count": 23,
   "metadata": {},
   "outputs": [
    {
     "data": {
      "text/plain": [
       "Sector 37, Gurgaon, Haryana                      1345\n",
       "Pimpri Chinchwad, Pune, Maharashtra              1343\n",
       "Moonnamkutty, Kollam, Kerala                      896\n",
       "Banaswadi Kasturi Nagar, Bengaluru, Karnataka     895\n",
       "Kalkaji, Delhi, Delhi                             893\n",
       "BTM Layout, Bengaluru, Karnataka                  893\n",
       "Dwarka, Delhi, Delhi                              892\n",
       "Greater Kailash 1, Delhi, Delhi                   450\n",
       "Udhana Gam, Surat, Gujarat                        450\n",
       "Airoli, Navi Mumbai, Maharashtra                  450\n",
       "Thane West, Thane, Maharashtra                    449\n",
       "Varun Niketan, Delhi, Delhi                       449\n",
       "Indira Nagar, Bengaluru, Karnataka                449\n",
       "Kankurgachhi, Kolkata, West Bengal                449\n",
       "Preet Vihar, Delhi, Delhi                         449\n",
       "Netaji Subhash Place, Delhi, Delhi                449\n",
       "Tilak Nagar, Delhi, Delhi                         449\n",
       "Greater Noida West, Noida, Uttar Pradesh          449\n",
       "Patel Nagar 3, Ghaziabad, Uttar Pradesh           448\n",
       "Godhra GIDC, Godhra, Gujarat                      448\n",
       "Nandanam Nandanam, Chennai, Tamil Nadu            448\n",
       "Sector 19D, Chandigarh, Chandigarh                448\n",
       "Umiya Chowk, Rajkot, Gujarat                      448\n",
       "Sector 8B, Chandigarh, Chandigarh                 448\n",
       "Geeta Colony, Delhi, Delhi                        448\n",
       "MG Road, Indore, Madhya Pradesh                   447\n",
       "Rajendra Place, Delhi, Delhi                      447\n",
       "Andheri East, Mumbai, Maharashtra                 447\n",
       "Ashok Vihar, Delhi, Delhi                         446\n",
       "Chelamattom, Perumbavoor, Kerala                  446\n",
       "Kalase Nagar, Mohol, Maharashtra                  445\n",
       "others                                             87\n",
       "Name: Location, dtype: int64"
      ]
     },
     "execution_count": 23,
     "metadata": {},
     "output_type": "execute_result"
    }
   ],
   "source": [
    "#replacing the \"-\" with others in Model\n",
    "df['Location'] = df['Location'].apply(lambda x: x if x!='-' else 'others')\n",
    "df['Location'].value_counts()"
   ]
  },
  {
   "cell_type": "code",
   "execution_count": 24,
   "metadata": {},
   "outputs": [
    {
     "data": {
      "text/plain": [
       "-                                   1431\n",
       "2.8Z Automatic                       896\n",
       "Petrol HSE Dynamic                   450\n",
       "2.5 G (Diesel) 8 Seater              450\n",
       "Sportz (O) 1.4                       450\n",
       "1.6 SX Plus Auto                     450\n",
       "Smart Hybrid Alpha                   449\n",
       "i-VTEC S                             449\n",
       "1.2 Vxi BSIV                         449\n",
       "i-VTEC VX                            449\n",
       "LTZ                                  449\n",
       "2004-2011 2.5 G4 Diesel 7-seater     449\n",
       "2012-2015 85PS Diesel RxL            449\n",
       "5 STR With AC Plus HTR CNG           449\n",
       "2012 LTZ AT                          449\n",
       "Asta 1.2 (O)                         449\n",
       "VXI CNG                              448\n",
       "GLS                                  448\n",
       "2011-2014 VDI                        448\n",
       "1.1 GVS Option                       448\n",
       "SLX                                  448\n",
       "1.2 VX                               448\n",
       "2012-2014 Magna Optional 1.2         448\n",
       "2006-2010 LXI Minor                  448\n",
       "320d Sport                           448\n",
       "2012-2016 VXI                        447\n",
       "LXI BS IV                            447\n",
       "V                                    447\n",
       "Diesel LS                            447\n",
       "1.2 Magna Executive                  447\n",
       "1.5 TDCi Titanium Plus               446\n",
       "2011-2016 4x2 Manual                 446\n",
       "2009-2011 Lx BSIV                    446\n",
       "2009-2011 E4 BS IV                   446\n",
       "Era +                                445\n",
       "2009-2011 Cx BSIV                    444\n",
       "LXI Option                           443\n",
       "Name: Variant, dtype: int64"
      ]
     },
     "execution_count": 24,
     "metadata": {},
     "output_type": "execute_result"
    }
   ],
   "source": [
    "# Location\n",
    "df['Variant'].value_counts()"
   ]
  },
  {
   "cell_type": "code",
   "execution_count": 25,
   "metadata": {},
   "outputs": [
    {
     "data": {
      "text/plain": [
       "others                              1431\n",
       "2.8Z Automatic                       896\n",
       "2.5 G (Diesel) 8 Seater              450\n",
       "Sportz (O) 1.4                       450\n",
       "1.6 SX Plus Auto                     450\n",
       "Petrol HSE Dynamic                   450\n",
       "2004-2011 2.5 G4 Diesel 7-seater     449\n",
       "i-VTEC S                             449\n",
       "1.2 Vxi BSIV                         449\n",
       "i-VTEC VX                            449\n",
       "LTZ                                  449\n",
       "Smart Hybrid Alpha                   449\n",
       "Asta 1.2 (O)                         449\n",
       "2012-2015 85PS Diesel RxL            449\n",
       "2012 LTZ AT                          449\n",
       "5 STR With AC Plus HTR CNG           449\n",
       "GLS                                  448\n",
       "2012-2014 Magna Optional 1.2         448\n",
       "1.2 VX                               448\n",
       "320d Sport                           448\n",
       "VXI CNG                              448\n",
       "SLX                                  448\n",
       "2006-2010 LXI Minor                  448\n",
       "2011-2014 VDI                        448\n",
       "1.1 GVS Option                       448\n",
       "1.2 Magna Executive                  447\n",
       "V                                    447\n",
       "LXI BS IV                            447\n",
       "2012-2016 VXI                        447\n",
       "Diesel LS                            447\n",
       "1.5 TDCi Titanium Plus               446\n",
       "2011-2016 4x2 Manual                 446\n",
       "2009-2011 E4 BS IV                   446\n",
       "2009-2011 Lx BSIV                    446\n",
       "Era +                                445\n",
       "2009-2011 Cx BSIV                    444\n",
       "LXI Option                           443\n",
       "Name: Variant, dtype: int64"
      ]
     },
     "execution_count": 25,
     "metadata": {},
     "output_type": "execute_result"
    }
   ],
   "source": [
    "#replacing the \"-\" with others in Model\n",
    "df['Variant'] = df['Variant'].apply(lambda x: x if x!='-' else 'others')\n",
    "df['Variant'].value_counts()"
   ]
  },
  {
   "cell_type": "code",
   "execution_count": 26,
   "metadata": {},
   "outputs": [
    {
     "data": {
      "text/plain": [
       "Brand             object\n",
       "Model             object\n",
       "Variant           object\n",
       "Year               int32\n",
       "Selling_Price    float64\n",
       "KM_Driven        float64\n",
       "Fuel              object\n",
       "Transmission      object\n",
       "Location          object\n",
       "dtype: object"
      ]
     },
     "execution_count": 26,
     "metadata": {},
     "output_type": "execute_result"
    }
   ],
   "source": [
    "df.dtypes"
   ]
  },
  {
   "cell_type": "code",
   "execution_count": 27,
   "metadata": {},
   "outputs": [
    {
     "data": {
      "text/html": [
       "<div>\n",
       "<style scoped>\n",
       "    .dataframe tbody tr th:only-of-type {\n",
       "        vertical-align: middle;\n",
       "    }\n",
       "\n",
       "    .dataframe tbody tr th {\n",
       "        vertical-align: top;\n",
       "    }\n",
       "\n",
       "    .dataframe thead th {\n",
       "        text-align: right;\n",
       "    }\n",
       "</style>\n",
       "<table border=\"1\" class=\"dataframe\">\n",
       "  <thead>\n",
       "    <tr style=\"text-align: right;\">\n",
       "      <th></th>\n",
       "      <th>Brand</th>\n",
       "      <th>Model</th>\n",
       "      <th>Variant</th>\n",
       "      <th>Year</th>\n",
       "      <th>Selling_Price</th>\n",
       "      <th>KM_Driven</th>\n",
       "      <th>Fuel</th>\n",
       "      <th>Transmission</th>\n",
       "      <th>Location</th>\n",
       "    </tr>\n",
       "  </thead>\n",
       "  <tbody>\n",
       "    <tr>\n",
       "      <th>0</th>\n",
       "      <td>Hyundai</td>\n",
       "      <td>i20</td>\n",
       "      <td>2012-2014 Magna Optional 1.2</td>\n",
       "      <td>2013</td>\n",
       "      <td>3.400000e+05</td>\n",
       "      <td>63000.000000</td>\n",
       "      <td>Petrol</td>\n",
       "      <td>Manual</td>\n",
       "      <td>Geeta Colony, Delhi, Delhi</td>\n",
       "    </tr>\n",
       "    <tr>\n",
       "      <th>1</th>\n",
       "      <td>Audi</td>\n",
       "      <td>A6</td>\n",
       "      <td>others</td>\n",
       "      <td>2016</td>\n",
       "      <td>2.650000e+06</td>\n",
       "      <td>72000.000000</td>\n",
       "      <td>Petrol</td>\n",
       "      <td>Automatic</td>\n",
       "      <td>Nandanam Nandanam, Chennai, Tamil Nadu</td>\n",
       "    </tr>\n",
       "    <tr>\n",
       "      <th>2</th>\n",
       "      <td>Maruti Suzuki</td>\n",
       "      <td>Alto 800</td>\n",
       "      <td>2012-2016 VXI</td>\n",
       "      <td>2016</td>\n",
       "      <td>2.950000e+05</td>\n",
       "      <td>37739.000000</td>\n",
       "      <td>Petrol</td>\n",
       "      <td>Manual</td>\n",
       "      <td>Andheri East, Mumbai, Maharashtra</td>\n",
       "    </tr>\n",
       "    <tr>\n",
       "      <th>3</th>\n",
       "      <td>Maruti Suzuki</td>\n",
       "      <td>Swift</td>\n",
       "      <td>others</td>\n",
       "      <td>2007</td>\n",
       "      <td>2.850000e+05</td>\n",
       "      <td>38000.000000</td>\n",
       "      <td>Petrol</td>\n",
       "      <td>Manual</td>\n",
       "      <td>Banaswadi Kasturi Nagar, Bengaluru, Karnataka</td>\n",
       "    </tr>\n",
       "    <tr>\n",
       "      <th>4</th>\n",
       "      <td>Maruti Suzuki</td>\n",
       "      <td>Swift Dzire</td>\n",
       "      <td>1.2 Vxi BSIV</td>\n",
       "      <td>2015</td>\n",
       "      <td>4.700000e+05</td>\n",
       "      <td>51000.000000</td>\n",
       "      <td>Petrol</td>\n",
       "      <td>Manual</td>\n",
       "      <td>Preet Vihar, Delhi, Delhi</td>\n",
       "    </tr>\n",
       "    <tr>\n",
       "      <th>5</th>\n",
       "      <td>Chevrolet</td>\n",
       "      <td>Beat</td>\n",
       "      <td>Diesel LS</td>\n",
       "      <td>2013</td>\n",
       "      <td>2.850000e+05</td>\n",
       "      <td>43000.000000</td>\n",
       "      <td>Diesel</td>\n",
       "      <td>Manual</td>\n",
       "      <td>Banaswadi Kasturi Nagar, Bengaluru, Karnataka</td>\n",
       "    </tr>\n",
       "    <tr>\n",
       "      <th>6</th>\n",
       "      <td>Maruti Suzuki</td>\n",
       "      <td>Wagon R</td>\n",
       "      <td>2006-2010 LXI Minor</td>\n",
       "      <td>2008</td>\n",
       "      <td>1.750000e+05</td>\n",
       "      <td>47000.000000</td>\n",
       "      <td>Petrol</td>\n",
       "      <td>Manual</td>\n",
       "      <td>Moonnamkutty, Kollam, Kerala</td>\n",
       "    </tr>\n",
       "    <tr>\n",
       "      <th>7</th>\n",
       "      <td>Chevrolet</td>\n",
       "      <td>Cruze</td>\n",
       "      <td>LTZ</td>\n",
       "      <td>2013</td>\n",
       "      <td>3.250000e+05</td>\n",
       "      <td>73000.000000</td>\n",
       "      <td>Diesel</td>\n",
       "      <td>Manual</td>\n",
       "      <td>Tilak Nagar, Delhi, Delhi</td>\n",
       "    </tr>\n",
       "    <tr>\n",
       "      <th>8</th>\n",
       "      <td>others</td>\n",
       "      <td>others</td>\n",
       "      <td>others</td>\n",
       "      <td>2013</td>\n",
       "      <td>6.628532e+05</td>\n",
       "      <td>65147.551278</td>\n",
       "      <td>Petrol</td>\n",
       "      <td>Manual</td>\n",
       "      <td>others</td>\n",
       "    </tr>\n",
       "    <tr>\n",
       "      <th>9</th>\n",
       "      <td>Hyundai</td>\n",
       "      <td>Elite i20</td>\n",
       "      <td>Asta 1.2 (O)</td>\n",
       "      <td>2019</td>\n",
       "      <td>8.450000e+05</td>\n",
       "      <td>26000.000000</td>\n",
       "      <td>Petrol</td>\n",
       "      <td>Manual</td>\n",
       "      <td>Indira Nagar, Bengaluru, Karnataka</td>\n",
       "    </tr>\n",
       "  </tbody>\n",
       "</table>\n",
       "</div>"
      ],
      "text/plain": [
       "           Brand        Model                       Variant  Year  \\\n",
       "0        Hyundai          i20  2012-2014 Magna Optional 1.2  2013   \n",
       "1           Audi           A6                        others  2016   \n",
       "2  Maruti Suzuki     Alto 800                 2012-2016 VXI  2016   \n",
       "3  Maruti Suzuki        Swift                        others  2007   \n",
       "4  Maruti Suzuki  Swift Dzire                  1.2 Vxi BSIV  2015   \n",
       "5      Chevrolet         Beat                     Diesel LS  2013   \n",
       "6  Maruti Suzuki      Wagon R           2006-2010 LXI Minor  2008   \n",
       "7      Chevrolet        Cruze                           LTZ  2013   \n",
       "8         others       others                        others  2013   \n",
       "9        Hyundai    Elite i20                  Asta 1.2 (O)  2019   \n",
       "\n",
       "   Selling_Price     KM_Driven    Fuel Transmission  \\\n",
       "0   3.400000e+05  63000.000000  Petrol       Manual   \n",
       "1   2.650000e+06  72000.000000  Petrol    Automatic   \n",
       "2   2.950000e+05  37739.000000  Petrol       Manual   \n",
       "3   2.850000e+05  38000.000000  Petrol       Manual   \n",
       "4   4.700000e+05  51000.000000  Petrol       Manual   \n",
       "5   2.850000e+05  43000.000000  Diesel       Manual   \n",
       "6   1.750000e+05  47000.000000  Petrol       Manual   \n",
       "7   3.250000e+05  73000.000000  Diesel       Manual   \n",
       "8   6.628532e+05  65147.551278  Petrol       Manual   \n",
       "9   8.450000e+05  26000.000000  Petrol       Manual   \n",
       "\n",
       "                                        Location  \n",
       "0                     Geeta Colony, Delhi, Delhi  \n",
       "1         Nandanam Nandanam, Chennai, Tamil Nadu  \n",
       "2              Andheri East, Mumbai, Maharashtra  \n",
       "3  Banaswadi Kasturi Nagar, Bengaluru, Karnataka  \n",
       "4                      Preet Vihar, Delhi, Delhi  \n",
       "5  Banaswadi Kasturi Nagar, Bengaluru, Karnataka  \n",
       "6                   Moonnamkutty, Kollam, Kerala  \n",
       "7                      Tilak Nagar, Delhi, Delhi  \n",
       "8                                         others  \n",
       "9             Indira Nagar, Bengaluru, Karnataka  "
      ]
     },
     "execution_count": 27,
     "metadata": {},
     "output_type": "execute_result"
    }
   ],
   "source": [
    "df.head(10)"
   ]
  },
  {
   "cell_type": "code",
   "execution_count": 28,
   "metadata": {},
   "outputs": [
    {
     "data": {
      "text/plain": [
       "['Brand',\n",
       " 'Model',\n",
       " 'Variant',\n",
       " 'Year',\n",
       " 'Selling_Price',\n",
       " 'KM_Driven',\n",
       " 'Fuel',\n",
       " 'Transmission',\n",
       " 'Location']"
      ]
     },
     "execution_count": 28,
     "metadata": {},
     "output_type": "execute_result"
    }
   ],
   "source": [
    "#checking all the column names\n",
    "list(df.columns)"
   ]
  },
  {
   "cell_type": "code",
   "execution_count": 29,
   "metadata": {},
   "outputs": [
    {
     "data": {
      "text/html": [
       "<div>\n",
       "<style scoped>\n",
       "    .dataframe tbody tr th:only-of-type {\n",
       "        vertical-align: middle;\n",
       "    }\n",
       "\n",
       "    .dataframe tbody tr th {\n",
       "        vertical-align: top;\n",
       "    }\n",
       "\n",
       "    .dataframe thead th {\n",
       "        text-align: right;\n",
       "    }\n",
       "</style>\n",
       "<table border=\"1\" class=\"dataframe\">\n",
       "  <thead>\n",
       "    <tr style=\"text-align: right;\">\n",
       "      <th></th>\n",
       "      <th>Brand</th>\n",
       "      <th>Variant</th>\n",
       "      <th>Model</th>\n",
       "      <th>Year</th>\n",
       "      <th>Transmission</th>\n",
       "      <th>Fuel</th>\n",
       "      <th>KM_Driven</th>\n",
       "      <th>Location</th>\n",
       "      <th>Selling_Price</th>\n",
       "    </tr>\n",
       "  </thead>\n",
       "  <tbody>\n",
       "    <tr>\n",
       "      <th>15237</th>\n",
       "      <td>Hyundai</td>\n",
       "      <td>1.1 GVS Option</td>\n",
       "      <td>Getz Prime</td>\n",
       "      <td>2009</td>\n",
       "      <td>Manual</td>\n",
       "      <td>Petrol</td>\n",
       "      <td>38000.0</td>\n",
       "      <td>Pimpri Chinchwad, Pune, Maharashtra</td>\n",
       "      <td>160000.0</td>\n",
       "    </tr>\n",
       "    <tr>\n",
       "      <th>16231</th>\n",
       "      <td>Mahindra</td>\n",
       "      <td>others</td>\n",
       "      <td>XUV300</td>\n",
       "      <td>2019</td>\n",
       "      <td>Manual</td>\n",
       "      <td>Diesel</td>\n",
       "      <td>19000.0</td>\n",
       "      <td>Sector 8B, Chandigarh, Chandigarh</td>\n",
       "      <td>1050000.0</td>\n",
       "    </tr>\n",
       "    <tr>\n",
       "      <th>11373</th>\n",
       "      <td>Maruti Suzuki</td>\n",
       "      <td>LXI Option</td>\n",
       "      <td>Swift Dzire</td>\n",
       "      <td>2015</td>\n",
       "      <td>Manual</td>\n",
       "      <td>Petrol</td>\n",
       "      <td>48000.0</td>\n",
       "      <td>Dwarka, Delhi, Delhi</td>\n",
       "      <td>395000.0</td>\n",
       "    </tr>\n",
       "    <tr>\n",
       "      <th>9883</th>\n",
       "      <td>Maruti Suzuki</td>\n",
       "      <td>others</td>\n",
       "      <td>Swift</td>\n",
       "      <td>2007</td>\n",
       "      <td>Manual</td>\n",
       "      <td>Petrol</td>\n",
       "      <td>38000.0</td>\n",
       "      <td>Banaswadi Kasturi Nagar, Bengaluru, Karnataka</td>\n",
       "      <td>285000.0</td>\n",
       "    </tr>\n",
       "    <tr>\n",
       "      <th>4726</th>\n",
       "      <td>Maruti Suzuki</td>\n",
       "      <td>2006-2010 LXI Minor</td>\n",
       "      <td>Wagon R</td>\n",
       "      <td>2008</td>\n",
       "      <td>Manual</td>\n",
       "      <td>Petrol</td>\n",
       "      <td>47000.0</td>\n",
       "      <td>Moonnamkutty, Kollam, Kerala</td>\n",
       "      <td>195000.0</td>\n",
       "    </tr>\n",
       "  </tbody>\n",
       "</table>\n",
       "</div>"
      ],
      "text/plain": [
       "               Brand              Variant        Model  Year Transmission  \\\n",
       "15237        Hyundai       1.1 GVS Option   Getz Prime  2009       Manual   \n",
       "16231       Mahindra               others       XUV300  2019       Manual   \n",
       "11373  Maruti Suzuki           LXI Option  Swift Dzire  2015       Manual   \n",
       "9883   Maruti Suzuki               others        Swift  2007       Manual   \n",
       "4726   Maruti Suzuki  2006-2010 LXI Minor      Wagon R  2008       Manual   \n",
       "\n",
       "         Fuel  KM_Driven                                       Location  \\\n",
       "15237  Petrol    38000.0            Pimpri Chinchwad, Pune, Maharashtra   \n",
       "16231  Diesel    19000.0              Sector 8B, Chandigarh, Chandigarh   \n",
       "11373  Petrol    48000.0                           Dwarka, Delhi, Delhi   \n",
       "9883   Petrol    38000.0  Banaswadi Kasturi Nagar, Bengaluru, Karnataka   \n",
       "4726   Petrol    47000.0                   Moonnamkutty, Kollam, Kerala   \n",
       "\n",
       "       Selling_Price  \n",
       "15237       160000.0  \n",
       "16231      1050000.0  \n",
       "11373       395000.0  \n",
       "9883        285000.0  \n",
       "4726        195000.0  "
      ]
     },
     "execution_count": 29,
     "metadata": {},
     "output_type": "execute_result"
    }
   ],
   "source": [
    "df = df[['Brand', 'Variant', 'Model', 'Year', 'Transmission', 'Fuel', 'KM_Driven', 'Location', 'Selling_Price']]\n",
    "df.sample(5)"
   ]
  },
  {
   "cell_type": "code",
   "execution_count": 30,
   "metadata": {},
   "outputs": [
    {
     "data": {
      "text/plain": [
       "87"
      ]
     },
     "execution_count": 30,
     "metadata": {},
     "output_type": "execute_result"
    }
   ],
   "source": [
    "(df['Brand'] == 'others').sum()"
   ]
  },
  {
   "cell_type": "code",
   "execution_count": 31,
   "metadata": {},
   "outputs": [
    {
     "data": {
      "text/plain": [
       "(18000, 9)"
      ]
     },
     "execution_count": 31,
     "metadata": {},
     "output_type": "execute_result"
    }
   ],
   "source": [
    "df.shape"
   ]
  },
  {
   "cell_type": "code",
   "execution_count": 32,
   "metadata": {},
   "outputs": [],
   "source": [
    "drop87 = df[df['Brand'] == 'others'].index\n",
    "df.drop(drop87, inplace = True)"
   ]
  },
  {
   "cell_type": "code",
   "execution_count": 33,
   "metadata": {},
   "outputs": [
    {
     "data": {
      "text/plain": [
       "(17913, 9)"
      ]
     },
     "execution_count": 33,
     "metadata": {},
     "output_type": "execute_result"
    }
   ],
   "source": [
    "df.shape"
   ]
  },
  {
   "cell_type": "code",
   "execution_count": 34,
   "metadata": {},
   "outputs": [
    {
     "data": {
      "text/plain": [
       "0"
      ]
     },
     "execution_count": 34,
     "metadata": {},
     "output_type": "execute_result"
    }
   ],
   "source": [
    "(df['Brand'] == 'others').sum()"
   ]
  },
  {
   "cell_type": "code",
   "execution_count": 35,
   "metadata": {},
   "outputs": [
    {
     "name": "stdout",
     "output_type": "stream",
     "text": [
      "<class 'pandas.core.frame.DataFrame'>\n",
      "Int64Index: 17913 entries, 0 to 17999\n",
      "Data columns (total 9 columns):\n",
      " #   Column         Non-Null Count  Dtype  \n",
      "---  ------         --------------  -----  \n",
      " 0   Brand          17913 non-null  object \n",
      " 1   Variant        17913 non-null  object \n",
      " 2   Model          17913 non-null  object \n",
      " 3   Year           17913 non-null  int32  \n",
      " 4   Transmission   17913 non-null  object \n",
      " 5   Fuel           17913 non-null  object \n",
      " 6   KM_Driven      17913 non-null  float64\n",
      " 7   Location       17913 non-null  object \n",
      " 8   Selling_Price  17913 non-null  float64\n",
      "dtypes: float64(2), int32(1), object(6)\n",
      "memory usage: 1.3+ MB\n"
     ]
    }
   ],
   "source": [
    "#checking the data type and null values of the variables in the data-set\n",
    "df.info()"
   ]
  },
  {
   "cell_type": "code",
   "execution_count": 36,
   "metadata": {},
   "outputs": [
    {
     "data": {
      "text/html": [
       "<div>\n",
       "<style scoped>\n",
       "    .dataframe tbody tr th:only-of-type {\n",
       "        vertical-align: middle;\n",
       "    }\n",
       "\n",
       "    .dataframe tbody tr th {\n",
       "        vertical-align: top;\n",
       "    }\n",
       "\n",
       "    .dataframe thead th {\n",
       "        text-align: right;\n",
       "    }\n",
       "</style>\n",
       "<table border=\"1\" class=\"dataframe\">\n",
       "  <thead>\n",
       "    <tr style=\"text-align: right;\">\n",
       "      <th></th>\n",
       "      <th>count</th>\n",
       "      <th>mean</th>\n",
       "      <th>std</th>\n",
       "      <th>min</th>\n",
       "      <th>25%</th>\n",
       "      <th>50%</th>\n",
       "      <th>75%</th>\n",
       "      <th>max</th>\n",
       "    </tr>\n",
       "  </thead>\n",
       "  <tbody>\n",
       "    <tr>\n",
       "      <th>Year</th>\n",
       "      <td>17913.0</td>\n",
       "      <td>2013.352426</td>\n",
       "      <td>3.624825</td>\n",
       "      <td>2006.0</td>\n",
       "      <td>2010.0</td>\n",
       "      <td>2013.0</td>\n",
       "      <td>2016.0</td>\n",
       "      <td>2020.0</td>\n",
       "    </tr>\n",
       "    <tr>\n",
       "      <th>KM_Driven</th>\n",
       "      <td>17913.0</td>\n",
       "      <td>65463.960420</td>\n",
       "      <td>33416.204594</td>\n",
       "      <td>14000.0</td>\n",
       "      <td>38000.0</td>\n",
       "      <td>62000.0</td>\n",
       "      <td>78001.0</td>\n",
       "      <td>140000.0</td>\n",
       "    </tr>\n",
       "    <tr>\n",
       "      <th>Selling_Price</th>\n",
       "      <td>17913.0</td>\n",
       "      <td>664286.851672</td>\n",
       "      <td>761820.570473</td>\n",
       "      <td>55000.0</td>\n",
       "      <td>295000.0</td>\n",
       "      <td>360000.0</td>\n",
       "      <td>774000.0</td>\n",
       "      <td>4750000.0</td>\n",
       "    </tr>\n",
       "  </tbody>\n",
       "</table>\n",
       "</div>"
      ],
      "text/plain": [
       "                 count           mean            std      min       25%  \\\n",
       "Year           17913.0    2013.352426       3.624825   2006.0    2010.0   \n",
       "KM_Driven      17913.0   65463.960420   33416.204594  14000.0   38000.0   \n",
       "Selling_Price  17913.0  664286.851672  761820.570473  55000.0  295000.0   \n",
       "\n",
       "                    50%       75%        max  \n",
       "Year             2013.0    2016.0     2020.0  \n",
       "KM_Driven       62000.0   78001.0   140000.0  \n",
       "Selling_Price  360000.0  774000.0  4750000.0  "
      ]
     },
     "execution_count": 36,
     "metadata": {},
     "output_type": "execute_result"
    }
   ],
   "source": [
    "df.describe().T"
   ]
  },
  {
   "cell_type": "code",
   "execution_count": 37,
   "metadata": {},
   "outputs": [
    {
     "data": {
      "text/html": [
       "<div>\n",
       "<style scoped>\n",
       "    .dataframe tbody tr th:only-of-type {\n",
       "        vertical-align: middle;\n",
       "    }\n",
       "\n",
       "    .dataframe tbody tr th {\n",
       "        vertical-align: top;\n",
       "    }\n",
       "\n",
       "    .dataframe thead th {\n",
       "        text-align: right;\n",
       "    }\n",
       "</style>\n",
       "<table border=\"1\" class=\"dataframe\">\n",
       "  <thead>\n",
       "    <tr style=\"text-align: right;\">\n",
       "      <th></th>\n",
       "      <th>count</th>\n",
       "      <th>unique</th>\n",
       "      <th>top</th>\n",
       "      <th>freq</th>\n",
       "    </tr>\n",
       "  </thead>\n",
       "  <tbody>\n",
       "    <tr>\n",
       "      <th>Brand</th>\n",
       "      <td>17913</td>\n",
       "      <td>12</td>\n",
       "      <td>Maruti Suzuki</td>\n",
       "      <td>4476</td>\n",
       "    </tr>\n",
       "    <tr>\n",
       "      <th>Variant</th>\n",
       "      <td>17913</td>\n",
       "      <td>37</td>\n",
       "      <td>others</td>\n",
       "      <td>1344</td>\n",
       "    </tr>\n",
       "    <tr>\n",
       "      <th>Model</th>\n",
       "      <td>17913</td>\n",
       "      <td>31</td>\n",
       "      <td>Elite i20</td>\n",
       "      <td>899</td>\n",
       "    </tr>\n",
       "    <tr>\n",
       "      <th>Transmission</th>\n",
       "      <td>17913</td>\n",
       "      <td>2</td>\n",
       "      <td>Manual</td>\n",
       "      <td>14772</td>\n",
       "    </tr>\n",
       "    <tr>\n",
       "      <th>Fuel</th>\n",
       "      <td>17913</td>\n",
       "      <td>3</td>\n",
       "      <td>Petrol</td>\n",
       "      <td>9400</td>\n",
       "    </tr>\n",
       "    <tr>\n",
       "      <th>Location</th>\n",
       "      <td>17913</td>\n",
       "      <td>31</td>\n",
       "      <td>Sector 37, Gurgaon, Haryana</td>\n",
       "      <td>1345</td>\n",
       "    </tr>\n",
       "  </tbody>\n",
       "</table>\n",
       "</div>"
      ],
      "text/plain": [
       "              count unique                          top   freq\n",
       "Brand         17913     12                Maruti Suzuki   4476\n",
       "Variant       17913     37                       others   1344\n",
       "Model         17913     31                    Elite i20    899\n",
       "Transmission  17913      2                       Manual  14772\n",
       "Fuel          17913      3                       Petrol   9400\n",
       "Location      17913     31  Sector 37, Gurgaon, Haryana   1345"
      ]
     },
     "execution_count": 37,
     "metadata": {},
     "output_type": "execute_result"
    }
   ],
   "source": [
    "# Describing object types\n",
    "df.describe(include='object').T"
   ]
  },
  {
   "cell_type": "markdown",
   "metadata": {},
   "source": [
    "# Handling the Null Values :"
   ]
  },
  {
   "cell_type": "code",
   "execution_count": 38,
   "metadata": {},
   "outputs": [
    {
     "name": "stdout",
     "output_type": "stream",
     "text": [
      "\n",
      "Title : Brand \n",
      "NaN val: 0\n",
      "\n",
      "Title : Variant \n",
      "NaN val: 0\n",
      "\n",
      "Title : Model \n",
      "NaN val: 0\n",
      "\n",
      "Title : Year \n",
      "NaN val: 0\n",
      "\n",
      "Title : Transmission \n",
      "NaN val: 0\n",
      "\n",
      "Title : Fuel \n",
      "NaN val: 0\n",
      "\n",
      "Title : KM_Driven \n",
      "NaN val: 0\n",
      "\n",
      "Title : Location \n",
      "NaN val: 0\n",
      "\n",
      "Title : Selling_Price \n",
      "NaN val: 0\n"
     ]
    }
   ],
   "source": [
    "#checking the null values \n",
    "for col in df.columns:print(\"\\nTitle :\",col,\"\\nNaN val:\",df[col].isnull().sum())"
   ]
  },
  {
   "cell_type": "code",
   "execution_count": 39,
   "metadata": {},
   "outputs": [
    {
     "data": {
      "text/plain": [
       "<AxesSubplot:>"
      ]
     },
     "execution_count": 39,
     "metadata": {},
     "output_type": "execute_result"
    },
    {
     "data": {
      "image/png": "[encoded data removed]",
      "text/plain": [
       "<Figure size 1800x720 with 1 Axes>"
      ]
     },
     "metadata": {
      "needs_background": "light"
     },
     "output_type": "display_data"
    }
   ],
   "source": [
    "# Program to visualize missing values in dataset\n",
    "# Importing the libraries\n",
    "import missingno as msno\n",
    "# Visualize missing values as a matrix\n",
    "msno.matrix(df,labels=True, sparkline=False, figsize=(25,10), fontsize=15, color=(0.27, 0.52, 1.0))"
   ]
  },
  {
   "cell_type": "markdown",
   "metadata": {},
   "source": [
    "# Catagorical Variables :"
   ]
  },
  {
   "cell_type": "code",
   "execution_count": 40,
   "metadata": {},
   "outputs": [
    {
     "data": {
      "text/plain": [
       "['Brand', 'Variant', 'Model', 'Transmission', 'Fuel', 'Location']"
      ]
     },
     "execution_count": 40,
     "metadata": {},
     "output_type": "execute_result"
    }
   ],
   "source": [
    "cat_List = [x for x in df.columns if df[x].dtype==object]\n",
    "list (cat_List)"
   ]
  },
  {
   "cell_type": "markdown",
   "metadata": {},
   "source": [
    "# Continous Variables :"
   ]
  },
  {
   "cell_type": "code",
   "execution_count": 41,
   "metadata": {},
   "outputs": [
    {
     "data": {
      "text/plain": [
       "['Year', 'KM_Driven', 'Selling_Price']"
      ]
     },
     "execution_count": 41,
     "metadata": {},
     "output_type": "execute_result"
    }
   ],
   "source": [
    "num_List = [x for x in df.columns if x not in cat_List]\n",
    "list (num_List)"
   ]
  },
  {
   "cell_type": "markdown",
   "metadata": {},
   "source": [
    "# DATA VISUALIZATION :"
   ]
  },
  {
   "cell_type": "markdown",
   "metadata": {},
   "source": [
    "UNI-VARIATE ANALYSIS :"
   ]
  },
  {
   "cell_type": "code",
   "execution_count": 42,
   "metadata": {},
   "outputs": [
    {
     "data": {
      "image/png": "[encoded data removed]",
      "text/plain": [
       "<Figure size 2520x1080 with 1 Axes>"
      ]
     },
     "metadata": {
      "needs_background": "light"
     },
     "output_type": "display_data"
    },
    {
     "data": {
      "image/png": "[encoded data removed]",
      "text/plain": [
       "<Figure size 2520x1080 with 1 Axes>"
      ]
     },
     "metadata": {
      "needs_background": "light"
     },
     "output_type": "display_data"
    },
    {
     "data": {
      "image/png": "[encoded data removed]",
      "text/plain": [
       "<Figure size 2520x1080 with 1 Axes>"
      ]
     },
     "metadata": {
      "needs_background": "light"
     },
     "output_type": "display_data"
    },
    {
     "data": {
      "image/png": "[encoded data removed]",
      "text/plain": [
       "<Figure size 2520x1080 with 1 Axes>"
      ]
     },
     "metadata": {
      "needs_background": "light"
     },
     "output_type": "display_data"
    },
    {
     "data": {
      "image/png": "[encoded data removed]",
      "text/plain": [
       "<Figure size 2520x1080 with 1 Axes>"
      ]
     },
     "metadata": {
      "needs_background": "light"
     },
     "output_type": "display_data"
    },
    {
     "data": {
      "image/png": "[encoded data removed]",
      "text/plain": [
       "<Figure size 2520x1080 with 1 Axes>"
      ]
     },
     "metadata": {
      "needs_background": "light"
     },
     "output_type": "display_data"
    }
   ],
   "source": [
    "for i in cat_List:\n",
    "    plt.figure(figsize=(35,15))\n",
    "    sn.countplot(df[i])\n",
    "    plt.xticks(rotation=90)\n",
    "    plt.show()"
   ]
  },
  {
   "cell_type": "markdown",
   "metadata": {},
   "source": [
    "# BI-VARIATE ANALYSIS :"
   ]
  },
  {
   "cell_type": "code",
   "execution_count": 43,
   "metadata": {},
   "outputs": [
    {
     "data": {
      "text/plain": [
       "<Figure size 2160x1800 with 0 Axes>"
      ]
     },
     "metadata": {},
     "output_type": "display_data"
    },
    {
     "data": {
      "image/png": "[encoded data removed]",
      "text/plain": [
       "<Figure size 360x360 with 1 Axes>"
      ]
     },
     "metadata": {
      "needs_background": "light"
     },
     "output_type": "display_data"
    },
    {
     "data": {
      "text/plain": [
       "<Figure size 2160x1800 with 0 Axes>"
      ]
     },
     "metadata": {},
     "output_type": "display_data"
    },
    {
     "data": {
      "image/png": "[encoded data removed]",
      "text/plain": [
       "<Figure size 360x360 with 1 Axes>"
      ]
     },
     "metadata": {
      "needs_background": "light"
     },
     "output_type": "display_data"
    },
    {
     "data": {
      "text/plain": [
       "<Figure size 2160x1800 with 0 Axes>"
      ]
     },
     "metadata": {},
     "output_type": "display_data"
    },
    {
     "data": {
      "image/png": "[encoded data removed]",
      "text/plain": [
       "<Figure size 360x360 with 1 Axes>"
      ]
     },
     "metadata": {
      "needs_background": "light"
     },
     "output_type": "display_data"
    },
    {
     "data": {
      "text/plain": [
       "<Figure size 2160x1800 with 0 Axes>"
      ]
     },
     "metadata": {},
     "output_type": "display_data"
    },
    {
     "data": {
      "image/png": "[encoded data removed]",
      "text/plain": [
       "<Figure size 360x360 with 1 Axes>"
      ]
     },
     "metadata": {
      "needs_background": "light"
     },
     "output_type": "display_data"
    },
    {
     "data": {
      "text/plain": [
       "<Figure size 2160x1800 with 0 Axes>"
      ]
     },
     "metadata": {},
     "output_type": "display_data"
    },
    {
     "data": {
      "image/png": "[encoded data removed]",
      "text/plain": [
       "<Figure size 360x360 with 1 Axes>"
      ]
     },
     "metadata": {
      "needs_background": "light"
     },
     "output_type": "display_data"
    },
    {
     "data": {
      "text/plain": [
       "<Figure size 2160x1800 with 0 Axes>"
      ]
     },
     "metadata": {},
     "output_type": "display_data"
    },
    {
     "data": {
      "image/png": "[encoded data removed]",
      "text/plain": [
       "<Figure size 360x360 with 1 Axes>"
      ]
     },
     "metadata": {
      "needs_background": "light"
     },
     "output_type": "display_data"
    }
   ],
   "source": [
    "for i in cat_List:\n",
    "    plt.figure(figsize=(30,25))\n",
    "    sn.catplot(y='Selling_Price',x=i,data=df,kind=\"bar\",palette=\"hsv\")\n",
    "    plt.xticks(rotation=90)\n",
    "    plt.show()"
   ]
  },
  {
   "cell_type": "code",
   "execution_count": 44,
   "metadata": {},
   "outputs": [
    {
     "data": {
      "image/png": "[encoded data removed]",
      "text/plain": [
       "<Figure size 720x576 with 1 Axes>"
      ]
     },
     "metadata": {
      "needs_background": "light"
     },
     "output_type": "display_data"
    },
    {
     "data": {
      "image/png": "[encoded data removed]",
      "text/plain": [
       "<Figure size 720x576 with 1 Axes>"
      ]
     },
     "metadata": {
      "needs_background": "light"
     },
     "output_type": "display_data"
    },
    {
     "data": {
      "image/png": "[encoded data removed]",
      "text/plain": [
       "<Figure size 720x576 with 1 Axes>"
      ]
     },
     "metadata": {
      "needs_background": "light"
     },
     "output_type": "display_data"
    }
   ],
   "source": [
    "for i in num_List:\n",
    "    plt.figure(figsize=(10,8))\n",
    "    sn.lineplot(y='Selling_Price',x=i,data=df)\n",
    "    plt.show()"
   ]
  },
  {
   "cell_type": "code",
   "execution_count": 45,
   "metadata": {},
   "outputs": [
    {
     "data": {
      "text/html": [
       "<div>\n",
       "<style scoped>\n",
       "    .dataframe tbody tr th:only-of-type {\n",
       "        vertical-align: middle;\n",
       "    }\n",
       "\n",
       "    .dataframe tbody tr th {\n",
       "        vertical-align: top;\n",
       "    }\n",
       "\n",
       "    .dataframe thead th {\n",
       "        text-align: right;\n",
       "    }\n",
       "</style>\n",
       "<table border=\"1\" class=\"dataframe\">\n",
       "  <thead>\n",
       "    <tr style=\"text-align: right;\">\n",
       "      <th></th>\n",
       "      <th>Brand</th>\n",
       "      <th>Variant</th>\n",
       "      <th>Model</th>\n",
       "      <th>Year</th>\n",
       "      <th>Transmission</th>\n",
       "      <th>Fuel</th>\n",
       "      <th>KM_Driven</th>\n",
       "      <th>Location</th>\n",
       "      <th>Selling_Price</th>\n",
       "    </tr>\n",
       "  </thead>\n",
       "  <tbody>\n",
       "  </tbody>\n",
       "</table>\n",
       "</div>"
      ],
      "text/plain": [
       "Empty DataFrame\n",
       "Columns: [Brand, Variant, Model, Year, Transmission, Fuel, KM_Driven, Location, Selling_Price]\n",
       "Index: []"
      ]
     },
     "execution_count": 45,
     "metadata": {},
     "output_type": "execute_result"
    }
   ],
   "source": [
    "df.head(0)"
   ]
  },
  {
   "cell_type": "code",
   "execution_count": 46,
   "metadata": {},
   "outputs": [
    {
     "data": {
      "image/png": "[encoded data removed]",
      "text/plain": [
       "<Figure size 432x288 with 1 Axes>"
      ]
     },
     "metadata": {
      "needs_background": "light"
     },
     "output_type": "display_data"
    }
   ],
   "source": [
    "#Plotting year vs no of cars\n",
    "purchased_car_per_year = df['Year'].value_counts()\n",
    "purchased_car_per_year.plot(kind='bar')\n",
    "plt.xlabel(\"Year\")\n",
    "plt.ylabel(\"Purchased Cars\")\n",
    "plt.title(\"Year vs Purchased cars\")\n",
    "plt.show()"
   ]
  },
  {
   "cell_type": "markdown",
   "metadata": {},
   "source": [
    "# Feature Engineering:\n",
    "# Now we will use Label Encoder to change catagorical values to Numerical values.\n",
    "# LabelEncoder"
   ]
  },
  {
   "cell_type": "code",
   "execution_count": 47,
   "metadata": {},
   "outputs": [
    {
     "name": "stdout",
     "output_type": "stream",
     "text": [
      "<class 'pandas.core.frame.DataFrame'>\n",
      "Int64Index: 17913 entries, 0 to 17999\n",
      "Data columns (total 9 columns):\n",
      " #   Column         Non-Null Count  Dtype  \n",
      "---  ------         --------------  -----  \n",
      " 0   Brand          17913 non-null  int32  \n",
      " 1   Variant        17913 non-null  int32  \n",
      " 2   Model          17913 non-null  int32  \n",
      " 3   Year           17913 non-null  int32  \n",
      " 4   Transmission   17913 non-null  int32  \n",
      " 5   Fuel           17913 non-null  int32  \n",
      " 6   KM_Driven      17913 non-null  float64\n",
      " 7   Location       17913 non-null  int32  \n",
      " 8   Selling_Price  17913 non-null  float64\n",
      "dtypes: float64(2), int32(7)\n",
      "memory usage: 1.5 MB\n",
      "None\n"
     ]
    }
   ],
   "source": [
    "from sklearn.preprocessing import LabelEncoder\n",
    "le = LabelEncoder()\n",
    "for i in cat_List:\n",
    "    df[i] = le.fit_transform(df[i].astype(str))\n",
    "print (df.info())"
   ]
  },
  {
   "cell_type": "code",
   "execution_count": 48,
   "metadata": {},
   "outputs": [
    {
     "data": {
      "text/html": [
       "<div>\n",
       "<style scoped>\n",
       "    .dataframe tbody tr th:only-of-type {\n",
       "        vertical-align: middle;\n",
       "    }\n",
       "\n",
       "    .dataframe tbody tr th {\n",
       "        vertical-align: top;\n",
       "    }\n",
       "\n",
       "    .dataframe thead th {\n",
       "        text-align: right;\n",
       "    }\n",
       "</style>\n",
       "<table border=\"1\" class=\"dataframe\">\n",
       "  <thead>\n",
       "    <tr style=\"text-align: right;\">\n",
       "      <th></th>\n",
       "      <th>Brand</th>\n",
       "      <th>Variant</th>\n",
       "      <th>Model</th>\n",
       "      <th>Year</th>\n",
       "      <th>Transmission</th>\n",
       "      <th>Fuel</th>\n",
       "      <th>KM_Driven</th>\n",
       "      <th>Location</th>\n",
       "      <th>Selling_Price</th>\n",
       "    </tr>\n",
       "  </thead>\n",
       "  <tbody>\n",
       "    <tr>\n",
       "      <th>0</th>\n",
       "      <td>5</td>\n",
       "      <td>16</td>\n",
       "      <td>30</td>\n",
       "      <td>2013</td>\n",
       "      <td>1</td>\n",
       "      <td>2</td>\n",
       "      <td>63000.0</td>\n",
       "      <td>7</td>\n",
       "      <td>340000.0</td>\n",
       "    </tr>\n",
       "    <tr>\n",
       "      <th>1</th>\n",
       "      <td>0</td>\n",
       "      <td>36</td>\n",
       "      <td>1</td>\n",
       "      <td>2016</td>\n",
       "      <td>0</td>\n",
       "      <td>2</td>\n",
       "      <td>72000.0</td>\n",
       "      <td>17</td>\n",
       "      <td>2650000.0</td>\n",
       "    </tr>\n",
       "    <tr>\n",
       "      <th>2</th>\n",
       "      <td>8</td>\n",
       "      <td>18</td>\n",
       "      <td>2</td>\n",
       "      <td>2016</td>\n",
       "      <td>1</td>\n",
       "      <td>2</td>\n",
       "      <td>37739.0</td>\n",
       "      <td>1</td>\n",
       "      <td>295000.0</td>\n",
       "    </tr>\n",
       "    <tr>\n",
       "      <th>3</th>\n",
       "      <td>8</td>\n",
       "      <td>36</td>\n",
       "      <td>24</td>\n",
       "      <td>2007</td>\n",
       "      <td>1</td>\n",
       "      <td>2</td>\n",
       "      <td>38000.0</td>\n",
       "      <td>4</td>\n",
       "      <td>285000.0</td>\n",
       "    </tr>\n",
       "    <tr>\n",
       "      <th>4</th>\n",
       "      <td>8</td>\n",
       "      <td>3</td>\n",
       "      <td>25</td>\n",
       "      <td>2015</td>\n",
       "      <td>1</td>\n",
       "      <td>2</td>\n",
       "      <td>51000.0</td>\n",
       "      <td>21</td>\n",
       "      <td>470000.0</td>\n",
       "    </tr>\n",
       "  </tbody>\n",
       "</table>\n",
       "</div>"
      ],
      "text/plain": [
       "   Brand  Variant  Model  Year  Transmission  Fuel  KM_Driven  Location  \\\n",
       "0      5       16     30  2013             1     2    63000.0         7   \n",
       "1      0       36      1  2016             0     2    72000.0        17   \n",
       "2      8       18      2  2016             1     2    37739.0         1   \n",
       "3      8       36     24  2007             1     2    38000.0         4   \n",
       "4      8        3     25  2015             1     2    51000.0        21   \n",
       "\n",
       "   Selling_Price  \n",
       "0       340000.0  \n",
       "1      2650000.0  \n",
       "2       295000.0  \n",
       "3       285000.0  \n",
       "4       470000.0  "
      ]
     },
     "execution_count": 48,
     "metadata": {},
     "output_type": "execute_result"
    }
   ],
   "source": [
    "#Checking the dataset\n",
    "df.head()"
   ]
  },
  {
   "cell_type": "code",
   "execution_count": 49,
   "metadata": {},
   "outputs": [
    {
     "data": {
      "text/html": [
       "<div>\n",
       "<style scoped>\n",
       "    .dataframe tbody tr th:only-of-type {\n",
       "        vertical-align: middle;\n",
       "    }\n",
       "\n",
       "    .dataframe tbody tr th {\n",
       "        vertical-align: top;\n",
       "    }\n",
       "\n",
       "    .dataframe thead th {\n",
       "        text-align: right;\n",
       "    }\n",
       "</style>\n",
       "<table border=\"1\" class=\"dataframe\">\n",
       "  <thead>\n",
       "    <tr style=\"text-align: right;\">\n",
       "      <th></th>\n",
       "      <th>Brand</th>\n",
       "      <th>Variant</th>\n",
       "      <th>Model</th>\n",
       "      <th>Year</th>\n",
       "      <th>Transmission</th>\n",
       "      <th>Fuel</th>\n",
       "      <th>KM_Driven</th>\n",
       "      <th>Location</th>\n",
       "      <th>Selling_Price</th>\n",
       "    </tr>\n",
       "  </thead>\n",
       "  <tbody>\n",
       "    <tr>\n",
       "      <th>count</th>\n",
       "      <td>17913.000000</td>\n",
       "      <td>17913.000000</td>\n",
       "      <td>17913.000000</td>\n",
       "      <td>17913.000000</td>\n",
       "      <td>17913.000000</td>\n",
       "      <td>17913.000000</td>\n",
       "      <td>17913.000000</td>\n",
       "      <td>17913.000000</td>\n",
       "      <td>1.791300e+04</td>\n",
       "    </tr>\n",
       "    <tr>\n",
       "      <th>mean</th>\n",
       "      <td>6.598727</td>\n",
       "      <td>18.627980</td>\n",
       "      <td>15.818512</td>\n",
       "      <td>2013.352426</td>\n",
       "      <td>0.824652</td>\n",
       "      <td>1.449673</td>\n",
       "      <td>65463.960420</td>\n",
       "      <td>14.884776</td>\n",
       "      <td>6.642869e+05</td>\n",
       "    </tr>\n",
       "    <tr>\n",
       "      <th>std</th>\n",
       "      <td>2.990211</td>\n",
       "      <td>11.151508</td>\n",
       "      <td>8.736219</td>\n",
       "      <td>3.624825</td>\n",
       "      <td>0.380275</td>\n",
       "      <td>0.630603</td>\n",
       "      <td>33416.204594</td>\n",
       "      <td>8.722626</td>\n",
       "      <td>7.618206e+05</td>\n",
       "    </tr>\n",
       "    <tr>\n",
       "      <th>min</th>\n",
       "      <td>0.000000</td>\n",
       "      <td>0.000000</td>\n",
       "      <td>0.000000</td>\n",
       "      <td>2006.000000</td>\n",
       "      <td>0.000000</td>\n",
       "      <td>0.000000</td>\n",
       "      <td>14000.000000</td>\n",
       "      <td>0.000000</td>\n",
       "      <td>5.500000e+04</td>\n",
       "    </tr>\n",
       "    <tr>\n",
       "      <th>25%</th>\n",
       "      <td>5.000000</td>\n",
       "      <td>8.000000</td>\n",
       "      <td>8.000000</td>\n",
       "      <td>2010.000000</td>\n",
       "      <td>1.000000</td>\n",
       "      <td>1.000000</td>\n",
       "      <td>38000.000000</td>\n",
       "      <td>7.000000</td>\n",
       "      <td>2.950000e+05</td>\n",
       "    </tr>\n",
       "    <tr>\n",
       "      <th>50%</th>\n",
       "      <td>7.000000</td>\n",
       "      <td>19.000000</td>\n",
       "      <td>16.000000</td>\n",
       "      <td>2013.000000</td>\n",
       "      <td>1.000000</td>\n",
       "      <td>2.000000</td>\n",
       "      <td>62000.000000</td>\n",
       "      <td>16.000000</td>\n",
       "      <td>3.600000e+05</td>\n",
       "    </tr>\n",
       "    <tr>\n",
       "      <th>75%</th>\n",
       "      <td>8.000000</td>\n",
       "      <td>29.000000</td>\n",
       "      <td>23.000000</td>\n",
       "      <td>2016.000000</td>\n",
       "      <td>1.000000</td>\n",
       "      <td>2.000000</td>\n",
       "      <td>78001.000000</td>\n",
       "      <td>23.000000</td>\n",
       "      <td>7.740000e+05</td>\n",
       "    </tr>\n",
       "    <tr>\n",
       "      <th>max</th>\n",
       "      <td>11.000000</td>\n",
       "      <td>36.000000</td>\n",
       "      <td>30.000000</td>\n",
       "      <td>2020.000000</td>\n",
       "      <td>1.000000</td>\n",
       "      <td>2.000000</td>\n",
       "      <td>140000.000000</td>\n",
       "      <td>30.000000</td>\n",
       "      <td>4.750000e+06</td>\n",
       "    </tr>\n",
       "  </tbody>\n",
       "</table>\n",
       "</div>"
      ],
      "text/plain": [
       "              Brand       Variant         Model          Year  Transmission  \\\n",
       "count  17913.000000  17913.000000  17913.000000  17913.000000  17913.000000   \n",
       "mean       6.598727     18.627980     15.818512   2013.352426      0.824652   \n",
       "std        2.990211     11.151508      8.736219      3.624825      0.380275   \n",
       "min        0.000000      0.000000      0.000000   2006.000000      0.000000   \n",
       "25%        5.000000      8.000000      8.000000   2010.000000      1.000000   \n",
       "50%        7.000000     19.000000     16.000000   2013.000000      1.000000   \n",
       "75%        8.000000     29.000000     23.000000   2016.000000      1.000000   \n",
       "max       11.000000     36.000000     30.000000   2020.000000      1.000000   \n",
       "\n",
       "               Fuel      KM_Driven      Location  Selling_Price  \n",
       "count  17913.000000   17913.000000  17913.000000   1.791300e+04  \n",
       "mean       1.449673   65463.960420     14.884776   6.642869e+05  \n",
       "std        0.630603   33416.204594      8.722626   7.618206e+05  \n",
       "min        0.000000   14000.000000      0.000000   5.500000e+04  \n",
       "25%        1.000000   38000.000000      7.000000   2.950000e+05  \n",
       "50%        2.000000   62000.000000     16.000000   3.600000e+05  \n",
       "75%        2.000000   78001.000000     23.000000   7.740000e+05  \n",
       "max        2.000000  140000.000000     30.000000   4.750000e+06  "
      ]
     },
     "execution_count": 49,
     "metadata": {},
     "output_type": "execute_result"
    }
   ],
   "source": [
    "#Statistical summary of the dataset\n",
    "df.describe()"
   ]
  },
  {
   "cell_type": "code",
   "execution_count": 50,
   "metadata": {},
   "outputs": [
    {
     "data": {
      "text/html": [
       "<div>\n",
       "<style scoped>\n",
       "    .dataframe tbody tr th:only-of-type {\n",
       "        vertical-align: middle;\n",
       "    }\n",
       "\n",
       "    .dataframe tbody tr th {\n",
       "        vertical-align: top;\n",
       "    }\n",
       "\n",
       "    .dataframe thead th {\n",
       "        text-align: right;\n",
       "    }\n",
       "</style>\n",
       "<table border=\"1\" class=\"dataframe\">\n",
       "  <thead>\n",
       "    <tr style=\"text-align: right;\">\n",
       "      <th></th>\n",
       "      <th>Brand</th>\n",
       "      <th>Variant</th>\n",
       "      <th>Model</th>\n",
       "      <th>Year</th>\n",
       "      <th>Transmission</th>\n",
       "      <th>Fuel</th>\n",
       "      <th>KM_Driven</th>\n",
       "      <th>Location</th>\n",
       "      <th>Selling_Price</th>\n",
       "    </tr>\n",
       "  </thead>\n",
       "  <tbody>\n",
       "    <tr>\n",
       "      <th>Brand</th>\n",
       "      <td>1.000000</td>\n",
       "      <td>-0.357354</td>\n",
       "      <td>0.474785</td>\n",
       "      <td>-0.097842</td>\n",
       "      <td>0.224600</td>\n",
       "      <td>-0.104210</td>\n",
       "      <td>0.246958</td>\n",
       "      <td>0.174485</td>\n",
       "      <td>-0.055908</td>\n",
       "    </tr>\n",
       "    <tr>\n",
       "      <th>Variant</th>\n",
       "      <td>-0.357354</td>\n",
       "      <td>1.000000</td>\n",
       "      <td>-0.319339</td>\n",
       "      <td>0.154980</td>\n",
       "      <td>0.079168</td>\n",
       "      <td>-0.025789</td>\n",
       "      <td>-0.198442</td>\n",
       "      <td>-0.015510</td>\n",
       "      <td>0.158498</td>\n",
       "    </tr>\n",
       "    <tr>\n",
       "      <th>Model</th>\n",
       "      <td>0.474785</td>\n",
       "      <td>-0.319339</td>\n",
       "      <td>1.000000</td>\n",
       "      <td>-0.084001</td>\n",
       "      <td>0.231520</td>\n",
       "      <td>0.091163</td>\n",
       "      <td>-0.048848</td>\n",
       "      <td>0.081709</td>\n",
       "      <td>-0.042482</td>\n",
       "    </tr>\n",
       "    <tr>\n",
       "      <th>Year</th>\n",
       "      <td>-0.097842</td>\n",
       "      <td>0.154980</td>\n",
       "      <td>-0.084001</td>\n",
       "      <td>1.000000</td>\n",
       "      <td>-0.246251</td>\n",
       "      <td>0.041037</td>\n",
       "      <td>-0.429918</td>\n",
       "      <td>-0.041495</td>\n",
       "      <td>0.523487</td>\n",
       "    </tr>\n",
       "    <tr>\n",
       "      <th>Transmission</th>\n",
       "      <td>0.224600</td>\n",
       "      <td>0.079168</td>\n",
       "      <td>0.231520</td>\n",
       "      <td>-0.246251</td>\n",
       "      <td>1.000000</td>\n",
       "      <td>0.014999</td>\n",
       "      <td>-0.046171</td>\n",
       "      <td>0.198406</td>\n",
       "      <td>-0.652780</td>\n",
       "    </tr>\n",
       "    <tr>\n",
       "      <th>Fuel</th>\n",
       "      <td>-0.104210</td>\n",
       "      <td>-0.025789</td>\n",
       "      <td>0.091163</td>\n",
       "      <td>0.041037</td>\n",
       "      <td>0.014999</td>\n",
       "      <td>1.000000</td>\n",
       "      <td>-0.529789</td>\n",
       "      <td>-0.235309</td>\n",
       "      <td>0.060960</td>\n",
       "    </tr>\n",
       "    <tr>\n",
       "      <th>KM_Driven</th>\n",
       "      <td>0.246958</td>\n",
       "      <td>-0.198442</td>\n",
       "      <td>-0.048848</td>\n",
       "      <td>-0.429918</td>\n",
       "      <td>-0.046171</td>\n",
       "      <td>-0.529789</td>\n",
       "      <td>1.000000</td>\n",
       "      <td>0.182995</td>\n",
       "      <td>-0.142475</td>\n",
       "    </tr>\n",
       "    <tr>\n",
       "      <th>Location</th>\n",
       "      <td>0.174485</td>\n",
       "      <td>-0.015510</td>\n",
       "      <td>0.081709</td>\n",
       "      <td>-0.041495</td>\n",
       "      <td>0.198406</td>\n",
       "      <td>-0.235309</td>\n",
       "      <td>0.182995</td>\n",
       "      <td>1.000000</td>\n",
       "      <td>-0.057683</td>\n",
       "    </tr>\n",
       "    <tr>\n",
       "      <th>Selling_Price</th>\n",
       "      <td>-0.055908</td>\n",
       "      <td>0.158498</td>\n",
       "      <td>-0.042482</td>\n",
       "      <td>0.523487</td>\n",
       "      <td>-0.652780</td>\n",
       "      <td>0.060960</td>\n",
       "      <td>-0.142475</td>\n",
       "      <td>-0.057683</td>\n",
       "      <td>1.000000</td>\n",
       "    </tr>\n",
       "  </tbody>\n",
       "</table>\n",
       "</div>"
      ],
      "text/plain": [
       "                  Brand   Variant     Model      Year  Transmission      Fuel  \\\n",
       "Brand          1.000000 -0.357354  0.474785 -0.097842      0.224600 -0.104210   \n",
       "Variant       -0.357354  1.000000 -0.319339  0.154980      0.079168 -0.025789   \n",
       "Model          0.474785 -0.319339  1.000000 -0.084001      0.231520  0.091163   \n",
       "Year          -0.097842  0.154980 -0.084001  1.000000     -0.246251  0.041037   \n",
       "Transmission   0.224600  0.079168  0.231520 -0.246251      1.000000  0.014999   \n",
       "Fuel          -0.104210 -0.025789  0.091163  0.041037      0.014999  1.000000   \n",
       "KM_Driven      0.246958 -0.198442 -0.048848 -0.429918     -0.046171 -0.529789   \n",
       "Location       0.174485 -0.015510  0.081709 -0.041495      0.198406 -0.235309   \n",
       "Selling_Price -0.055908  0.158498 -0.042482  0.523487     -0.652780  0.060960   \n",
       "\n",
       "               KM_Driven  Location  Selling_Price  \n",
       "Brand           0.246958  0.174485      -0.055908  \n",
       "Variant        -0.198442 -0.015510       0.158498  \n",
       "Model          -0.048848  0.081709      -0.042482  \n",
       "Year           -0.429918 -0.041495       0.523487  \n",
       "Transmission   -0.046171  0.198406      -0.652780  \n",
       "Fuel           -0.529789 -0.235309       0.060960  \n",
       "KM_Driven       1.000000  0.182995      -0.142475  \n",
       "Location        0.182995  1.000000      -0.057683  \n",
       "Selling_Price  -0.142475 -0.057683       1.000000  "
      ]
     },
     "execution_count": 50,
     "metadata": {},
     "output_type": "execute_result"
    }
   ],
   "source": [
    "#Checking correlation of the dataset\n",
    "corr=df.corr()  #corr() function provides the correlation value of each column\n",
    "corr"
   ]
  },
  {
   "cell_type": "code",
   "execution_count": 51,
   "metadata": {},
   "outputs": [
    {
     "data": {
      "image/png": "[encoded data removed]",
      "text/plain": [
       "<Figure size 1080x864 with 2 Axes>"
      ]
     },
     "metadata": {
      "needs_background": "light"
     },
     "output_type": "display_data"
    }
   ],
   "source": [
    "#Plotting heatmap for visualizing the correlation\n",
    "plt.figure(figsize=(15,12))\n",
    "sn.heatmap(corr,linewidth=0.5,linecolor='black',fmt='.0%',annot=True)\n",
    "plt.show()"
   ]
  },
  {
   "cell_type": "code",
   "execution_count": 52,
   "metadata": {},
   "outputs": [
    {
     "data": {
      "text/plain": [
       "Text(0.5, 1.0, 'Correlation with Target variable')"
      ]
     },
     "execution_count": 52,
     "metadata": {},
     "output_type": "execute_result"
    },
    {
     "data": {
      "image/png": "[encoded data removed]",
      "text/plain": [
       "<Figure size 864x576 with 1 Axes>"
      ]
     },
     "metadata": {
      "needs_background": "light"
     },
     "output_type": "display_data"
    }
   ],
   "source": [
    "#Correlation with target variable\n",
    "plt.figure(figsize=(12,8))\n",
    "df.drop('Selling_Price',axis=1).corrwith(df['Selling_Price']).plot(kind='bar',grid=True)\n",
    "plt.title('Correlation with Target variable')"
   ]
  },
  {
   "cell_type": "markdown",
   "metadata": {},
   "source": [
    "# Checking skewness :"
   ]
  },
  {
   "cell_type": "code",
   "execution_count": 53,
   "metadata": {},
   "outputs": [
    {
     "data": {
      "text/plain": [
       "Brand           -0.238892\n",
       "Variant          0.017713\n",
       "Model           -0.111916\n",
       "Year            -0.072629\n",
       "Transmission    -1.707654\n",
       "Fuel            -0.708647\n",
       "KM_Driven        0.692775\n",
       "Location        -0.037121\n",
       "Selling_Price    3.237458\n",
       "dtype: float64"
      ]
     },
     "execution_count": 53,
     "metadata": {},
     "output_type": "execute_result"
    }
   ],
   "source": [
    "#checking the skewness\n",
    "df.skew()"
   ]
  },
  {
   "cell_type": "code",
   "execution_count": 54,
   "metadata": {},
   "outputs": [
    {
     "data": {
      "image/png": "[encoded data removed]",
      "text/plain": [
       "<Figure size 432x288 with 1 Axes>"
      ]
     },
     "metadata": {
      "needs_background": "light"
     },
     "output_type": "display_data"
    },
    {
     "data": {
      "image/png": "[encoded data removed]",
      "text/plain": [
       "<Figure size 432x288 with 1 Axes>"
      ]
     },
     "metadata": {
      "needs_background": "light"
     },
     "output_type": "display_data"
    },
    {
     "data": {
      "image/png": "[encoded data removed]",
      "text/plain": [
       "<Figure size 432x288 with 1 Axes>"
      ]
     },
     "metadata": {
      "needs_background": "light"
     },
     "output_type": "display_data"
    },
    {
     "data": {
      "image/png": "[encoded data removed]",
      "text/plain": [
       "<Figure size 432x288 with 1 Axes>"
      ]
     },
     "metadata": {
      "needs_background": "light"
     },
     "output_type": "display_data"
    },
    {
     "data": {
      "image/png": "[encoded data removed]",
      "text/plain": [
       "<Figure size 432x288 with 1 Axes>"
      ]
     },
     "metadata": {
      "needs_background": "light"
     },
     "output_type": "display_data"
    },
    {
     "data": {
      "image/png": "[encoded data removed]",
      "text/plain": [
       "<Figure size 432x288 with 1 Axes>"
      ]
     },
     "metadata": {
      "needs_background": "light"
     },
     "output_type": "display_data"
    },
    {
     "data": {
      "image/png": "[encoded data removed]",
      "text/plain": [
       "<Figure size 432x288 with 1 Axes>"
      ]
     },
     "metadata": {
      "needs_background": "light"
     },
     "output_type": "display_data"
    },
    {
     "data": {
      "image/png": "[encoded data removed]",
      "text/plain": [
       "<Figure size 432x288 with 1 Axes>"
      ]
     },
     "metadata": {
      "needs_background": "light"
     },
     "output_type": "display_data"
    },
    {
     "data": {
      "image/png": "[encoded data removed]",
      "text/plain": [
       "<Figure size 432x288 with 1 Axes>"
      ]
     },
     "metadata": {
      "needs_background": "light"
     },
     "output_type": "display_data"
    }
   ],
   "source": [
    "#Plotting distplot for checking the distribution of skewness\n",
    "for col in df.describe().columns:\n",
    "    sn.distplot(df[col])\n",
    "    plt.show()"
   ]
  },
  {
   "cell_type": "markdown",
   "metadata": {},
   "source": [
    "# Checking outliers :"
   ]
  },
  {
   "cell_type": "code",
   "execution_count": 55,
   "metadata": {},
   "outputs": [
    {
     "data": {
      "image/png": "[encoded data removed]",
      "text/plain": [
       "<Figure size 2160x2160 with 9 Axes>"
      ]
     },
     "metadata": {
      "needs_background": "light"
     },
     "output_type": "display_data"
    }
   ],
   "source": [
    "collist=df.columns.values\n",
    "ncol=5\n",
    "nrow=8\n",
    "plt.figure(figsize=(30,30))\n",
    "for i in range(0,len(collist)):\n",
    "    plt.subplot(nrow,ncol,i+1)\n",
    "    sn.boxplot(df[collist[i]])"
   ]
  },
  {
   "cell_type": "markdown",
   "metadata": {},
   "source": [
    "# Handling outliers by using z-score method :"
   ]
  },
  {
   "cell_type": "code",
   "execution_count": 56,
   "metadata": {},
   "outputs": [
    {
     "data": {
      "text/plain": [
       "(array([   25,    65,   105,   145,   185,   225,   265,   305,   345,\n",
       "          385,   425,   464,   504,   544,   584,   624,   664,   704,\n",
       "          744,   784,   824,   864,   904,   944,   984,  1024,  1064,\n",
       "         1104,  1144,  1184,  1224,  1264,  1304,  1344,  1384,  1424,\n",
       "         1463,  1502,  1542,  1582,  1622,  1662,  1701,  1741,  1781,\n",
       "         1821,  1861,  1900,  1940,  1980,  2020,  2060,  2100,  2140,\n",
       "         2180,  2220,  2260,  2300,  2340,  2380,  2420,  2460,  2500,\n",
       "         2540,  2580,  2620,  2660,  2700,  2740,  2780,  2820,  2860,\n",
       "         2899,  2939,  2979,  3018,  3058,  3098,  3138,  3178,  3218,\n",
       "         3258,  3298,  3338,  3378,  3418,  3458,  3498,  3538,  3578,\n",
       "         3618,  3657,  3697,  3737,  3777,  3817,  3857,  3897,  3937,\n",
       "         3977,  4017,  4056,  4096,  4136,  4176,  4215,  4255,  4295,\n",
       "         4335,  4375,  4415,  4455,  4495,  4535,  4575,  4615,  4655,\n",
       "         4695,  4735,  4775,  4815,  4854,  4894,  4934,  4974,  5014,\n",
       "         5054,  5094,  5134,  5174,  5214,  5254,  5294,  5334,  5374,\n",
       "         5414,  5454,  5494,  5534,  5574,  5614,  5654,  5694,  5734,\n",
       "         5774,  5814,  5854,  5894,  5934,  5974,  6014,  6054,  6093,\n",
       "         6133,  6173,  6213,  6253,  6293,  6333,  6373,  6413,  6453,\n",
       "         6493,  6533,  6573,  6613,  6652,  6692,  6732,  6772,  6812,\n",
       "         6852,  6892,  6931,  6970,  7010,  7050,  7090,  7130,  7170,\n",
       "         7210,  7250,  7290,  7330,  7369,  7409,  7449,  7488,  7528,\n",
       "         7568,  7608,  7648,  7688,  7728,  7768,  7808,  7848,  7888,\n",
       "         7928,  7967,  8007,  8047,  8087,  8127,  8167,  8207,  8247,\n",
       "         8287,  8325,  8365,  8405,  8445,  8485,  8511,  8551,  8591,\n",
       "         8631,  8671,  8711,  8751,  8791,  8831,  8871,  8911,  8951,\n",
       "         8991,  9031,  9071,  9111,  9151,  9191,  9231,  9271,  9311,\n",
       "         9351,  9391,  9431,  9471,  9511,  9550,  9590,  9630,  9670,\n",
       "         9710,  9750,  9790,  9830,  9870,  9910,  9950,  9990, 10030,\n",
       "        10070, 10108, 10147, 10187, 10227, 10267, 10307, 10347, 10386,\n",
       "        10425, 10465, 10505, 10545, 10585, 10625, 10663, 10703, 10743,\n",
       "        10783, 10823, 10863, 10903, 10941, 10981, 11021, 11061, 11101,\n",
       "        11141, 11181, 11221, 11261, 11301, 11341, 11381, 11421, 11461,\n",
       "        11501, 11541, 11580, 11619, 11659, 11699, 11739, 11779, 11819,\n",
       "        11858, 11898, 11938, 11978, 12018, 12058, 12098, 12138, 12177,\n",
       "        12217, 12257, 12297, 12337, 12377, 12417, 12457, 12497, 12537,\n",
       "        12577, 12617, 12657, 12697, 12737, 12777, 12817, 12856, 12896,\n",
       "        12934, 12974, 13014, 13052, 13092, 13131, 13170, 13210, 13250,\n",
       "        13289, 13328, 13368, 13408, 13448, 13488, 13528, 13568, 13608,\n",
       "        13648, 13688, 13727, 13767, 13807, 13847, 13887, 13927, 13967,\n",
       "        14007, 14046, 14086, 14125, 14165, 14205, 14245, 14285, 14325,\n",
       "        14364, 14404, 14444, 14483, 14523, 14563, 14603, 14643, 14682,\n",
       "        14722, 14761, 14801, 14841, 14881, 14921, 14960, 15000, 15040,\n",
       "        15080, 15119, 15159, 15199, 15239, 15278, 15317, 15356, 15395,\n",
       "        15435, 15475, 15515, 15554, 15593, 15633, 15673, 15713, 15753,\n",
       "        15793, 15833, 15873, 15913, 15952, 15992, 16032, 16072, 16112,\n",
       "        16152, 16191, 16231, 16270, 16310, 16350, 16390, 16430, 16470,\n",
       "        16510, 16549, 16589, 16628, 16668, 16707, 16747, 16786, 16826,\n",
       "        16866, 16906, 16946, 16985, 17025, 17065, 17105, 17145, 17185,\n",
       "        17225, 17264, 17304, 17344, 17384, 17423, 17463, 17503, 17542,\n",
       "        17580, 17620, 17660, 17700, 17740, 17780, 17820, 17860, 17899],\n",
       "       dtype=int64),\n",
       " array([8, 8, 8, 8, 8, 8, 8, 8, 8, 8, 8, 8, 8, 8, 8, 8, 8, 8, 8, 8, 8, 8,\n",
       "        8, 8, 8, 8, 8, 8, 8, 8, 8, 8, 8, 8, 8, 8, 8, 8, 8, 8, 8, 8, 8, 8,\n",
       "        8, 8, 8, 8, 8, 8, 8, 8, 8, 8, 8, 8, 8, 8, 8, 8, 8, 8, 8, 8, 8, 8,\n",
       "        8, 8, 8, 8, 8, 8, 8, 8, 8, 8, 8, 8, 8, 8, 8, 8, 8, 8, 8, 8, 8, 8,\n",
       "        8, 8, 8, 8, 8, 8, 8, 8, 8, 8, 8, 8, 8, 8, 8, 8, 8, 8, 8, 8, 8, 8,\n",
       "        8, 8, 8, 8, 8, 8, 8, 8, 8, 8, 8, 8, 8, 8, 8, 8, 8, 8, 8, 8, 8, 8,\n",
       "        8, 8, 8, 8, 8, 8, 8, 8, 8, 8, 8, 8, 8, 8, 8, 8, 8, 8, 8, 8, 8, 8,\n",
       "        8, 8, 8, 8, 8, 8, 8, 8, 8, 8, 8, 8, 8, 8, 8, 8, 8, 8, 8, 8, 8, 8,\n",
       "        8, 8, 8, 8, 8, 8, 8, 8, 8, 8, 8, 8, 8, 8, 8, 8, 8, 8, 8, 8, 8, 8,\n",
       "        8, 8, 8, 8, 8, 8, 8, 8, 8, 8, 8, 8, 8, 8, 8, 8, 8, 8, 8, 8, 8, 8,\n",
       "        8, 8, 8, 8, 8, 8, 8, 8, 8, 8, 8, 8, 8, 8, 8, 8, 8, 8, 8, 8, 8, 8,\n",
       "        8, 8, 8, 8, 8, 8, 8, 8, 8, 8, 8, 8, 8, 8, 8, 8, 8, 8, 8, 8, 8, 8,\n",
       "        8, 8, 8, 8, 8, 8, 8, 8, 8, 8, 8, 8, 8, 8, 8, 8, 8, 8, 8, 8, 8, 8,\n",
       "        8, 8, 8, 8, 8, 8, 8, 8, 8, 8, 8, 8, 8, 8, 8, 8, 8, 8, 8, 8, 8, 8,\n",
       "        8, 8, 8, 8, 8, 8, 8, 8, 8, 8, 8, 8, 8, 8, 8, 8, 8, 8, 8, 8, 8, 8,\n",
       "        8, 8, 8, 8, 8, 8, 8, 8, 8, 8, 8, 8, 8, 8, 8, 8, 8, 8, 8, 8, 8, 8,\n",
       "        8, 8, 8, 8, 8, 8, 8, 8, 8, 8, 8, 8, 8, 8, 8, 8, 8, 8, 8, 8, 8, 8,\n",
       "        8, 8, 8, 8, 8, 8, 8, 8, 8, 8, 8, 8, 8, 8, 8, 8, 8, 8, 8, 8, 8, 8,\n",
       "        8, 8, 8, 8, 8, 8, 8, 8, 8, 8, 8, 8, 8, 8, 8, 8, 8, 8, 8, 8, 8, 8,\n",
       "        8, 8, 8, 8, 8, 8, 8, 8, 8, 8, 8, 8, 8, 8, 8, 8, 8, 8, 8, 8, 8, 8,\n",
       "        8, 8, 8, 8, 8, 8, 8, 8, 8, 8], dtype=int64))"
      ]
     },
     "execution_count": 56,
     "metadata": {},
     "output_type": "execute_result"
    }
   ],
   "source": [
    "from scipy.stats import zscore\n",
    "import numpy as np\n",
    "z=np.abs(zscore(df))   #converting all values into absolute values\n",
    "threshold=3    #setting up a threshold\n",
    "np.where(z>3)"
   ]
  },
  {
   "cell_type": "code",
   "execution_count": 57,
   "metadata": {},
   "outputs": [
    {
     "data": {
      "text/html": [
       "<div>\n",
       "<style scoped>\n",
       "    .dataframe tbody tr th:only-of-type {\n",
       "        vertical-align: middle;\n",
       "    }\n",
       "\n",
       "    .dataframe tbody tr th {\n",
       "        vertical-align: top;\n",
       "    }\n",
       "\n",
       "    .dataframe thead th {\n",
       "        text-align: right;\n",
       "    }\n",
       "</style>\n",
       "<table border=\"1\" class=\"dataframe\">\n",
       "  <thead>\n",
       "    <tr style=\"text-align: right;\">\n",
       "      <th></th>\n",
       "      <th>Brand</th>\n",
       "      <th>Variant</th>\n",
       "      <th>Model</th>\n",
       "      <th>Year</th>\n",
       "      <th>Transmission</th>\n",
       "      <th>Fuel</th>\n",
       "      <th>KM_Driven</th>\n",
       "      <th>Location</th>\n",
       "      <th>Selling_Price</th>\n",
       "    </tr>\n",
       "  </thead>\n",
       "  <tbody>\n",
       "    <tr>\n",
       "      <th>0</th>\n",
       "      <td>5</td>\n",
       "      <td>16</td>\n",
       "      <td>30</td>\n",
       "      <td>2013</td>\n",
       "      <td>1</td>\n",
       "      <td>2</td>\n",
       "      <td>63000.0</td>\n",
       "      <td>7</td>\n",
       "      <td>340000.0</td>\n",
       "    </tr>\n",
       "    <tr>\n",
       "      <th>1</th>\n",
       "      <td>0</td>\n",
       "      <td>36</td>\n",
       "      <td>1</td>\n",
       "      <td>2016</td>\n",
       "      <td>0</td>\n",
       "      <td>2</td>\n",
       "      <td>72000.0</td>\n",
       "      <td>17</td>\n",
       "      <td>2650000.0</td>\n",
       "    </tr>\n",
       "    <tr>\n",
       "      <th>2</th>\n",
       "      <td>8</td>\n",
       "      <td>18</td>\n",
       "      <td>2</td>\n",
       "      <td>2016</td>\n",
       "      <td>1</td>\n",
       "      <td>2</td>\n",
       "      <td>37739.0</td>\n",
       "      <td>1</td>\n",
       "      <td>295000.0</td>\n",
       "    </tr>\n",
       "    <tr>\n",
       "      <th>3</th>\n",
       "      <td>8</td>\n",
       "      <td>36</td>\n",
       "      <td>24</td>\n",
       "      <td>2007</td>\n",
       "      <td>1</td>\n",
       "      <td>2</td>\n",
       "      <td>38000.0</td>\n",
       "      <td>4</td>\n",
       "      <td>285000.0</td>\n",
       "    </tr>\n",
       "    <tr>\n",
       "      <th>4</th>\n",
       "      <td>8</td>\n",
       "      <td>3</td>\n",
       "      <td>25</td>\n",
       "      <td>2015</td>\n",
       "      <td>1</td>\n",
       "      <td>2</td>\n",
       "      <td>51000.0</td>\n",
       "      <td>21</td>\n",
       "      <td>470000.0</td>\n",
       "    </tr>\n",
       "    <tr>\n",
       "      <th>...</th>\n",
       "      <td>...</td>\n",
       "      <td>...</td>\n",
       "      <td>...</td>\n",
       "      <td>...</td>\n",
       "      <td>...</td>\n",
       "      <td>...</td>\n",
       "      <td>...</td>\n",
       "      <td>...</td>\n",
       "      <td>...</td>\n",
       "    </tr>\n",
       "    <tr>\n",
       "      <th>17995</th>\n",
       "      <td>4</td>\n",
       "      <td>35</td>\n",
       "      <td>6</td>\n",
       "      <td>2016</td>\n",
       "      <td>1</td>\n",
       "      <td>2</td>\n",
       "      <td>58058.0</td>\n",
       "      <td>14</td>\n",
       "      <td>675000.0</td>\n",
       "    </tr>\n",
       "    <tr>\n",
       "      <th>17996</th>\n",
       "      <td>8</td>\n",
       "      <td>30</td>\n",
       "      <td>5</td>\n",
       "      <td>2018</td>\n",
       "      <td>1</td>\n",
       "      <td>1</td>\n",
       "      <td>48000.0</td>\n",
       "      <td>18</td>\n",
       "      <td>799999.0</td>\n",
       "    </tr>\n",
       "    <tr>\n",
       "      <th>17997</th>\n",
       "      <td>5</td>\n",
       "      <td>0</td>\n",
       "      <td>18</td>\n",
       "      <td>2009</td>\n",
       "      <td>1</td>\n",
       "      <td>2</td>\n",
       "      <td>38000.0</td>\n",
       "      <td>20</td>\n",
       "      <td>160000.0</td>\n",
       "    </tr>\n",
       "    <tr>\n",
       "      <th>17998</th>\n",
       "      <td>8</td>\n",
       "      <td>26</td>\n",
       "      <td>29</td>\n",
       "      <td>2010</td>\n",
       "      <td>1</td>\n",
       "      <td>2</td>\n",
       "      <td>64000.0</td>\n",
       "      <td>24</td>\n",
       "      <td>160000.0</td>\n",
       "    </tr>\n",
       "    <tr>\n",
       "      <th>17999</th>\n",
       "      <td>11</td>\n",
       "      <td>8</td>\n",
       "      <td>19</td>\n",
       "      <td>2006</td>\n",
       "      <td>1</td>\n",
       "      <td>1</td>\n",
       "      <td>124000.0</td>\n",
       "      <td>26</td>\n",
       "      <td>330000.0</td>\n",
       "    </tr>\n",
       "  </tbody>\n",
       "</table>\n",
       "<p>17463 rows × 9 columns</p>\n",
       "</div>"
      ],
      "text/plain": [
       "       Brand  Variant  Model  Year  Transmission  Fuel  KM_Driven  Location  \\\n",
       "0          5       16     30  2013             1     2    63000.0         7   \n",
       "1          0       36      1  2016             0     2    72000.0        17   \n",
       "2          8       18      2  2016             1     2    37739.0         1   \n",
       "3          8       36     24  2007             1     2    38000.0         4   \n",
       "4          8        3     25  2015             1     2    51000.0        21   \n",
       "...      ...      ...    ...   ...           ...   ...        ...       ...   \n",
       "17995      4       35      6  2016             1     2    58058.0        14   \n",
       "17996      8       30      5  2018             1     1    48000.0        18   \n",
       "17997      5        0     18  2009             1     2    38000.0        20   \n",
       "17998      8       26     29  2010             1     2    64000.0        24   \n",
       "17999     11        8     19  2006             1     1   124000.0        26   \n",
       "\n",
       "       Selling_Price  \n",
       "0           340000.0  \n",
       "1          2650000.0  \n",
       "2           295000.0  \n",
       "3           285000.0  \n",
       "4           470000.0  \n",
       "...              ...  \n",
       "17995       675000.0  \n",
       "17996       799999.0  \n",
       "17997       160000.0  \n",
       "17998       160000.0  \n",
       "17999       330000.0  \n",
       "\n",
       "[17463 rows x 9 columns]"
      ]
     },
     "execution_count": 57,
     "metadata": {},
     "output_type": "execute_result"
    }
   ],
   "source": [
    "#Removing outliers\n",
    "df_new=df[(z<3).all(axis=1)]\n",
    "df_new"
   ]
  },
  {
   "cell_type": "code",
   "execution_count": 58,
   "metadata": {},
   "outputs": [
    {
     "data": {
      "text/plain": [
       "(17913, 9)"
      ]
     },
     "execution_count": 58,
     "metadata": {},
     "output_type": "execute_result"
    }
   ],
   "source": [
    "#Original data dimensions\n",
    "df.shape"
   ]
  },
  {
   "cell_type": "code",
   "execution_count": 59,
   "metadata": {},
   "outputs": [
    {
     "data": {
      "text/plain": [
       "(17463, 9)"
      ]
     },
     "execution_count": 59,
     "metadata": {},
     "output_type": "execute_result"
    }
   ],
   "source": [
    "#New data dimensions\n",
    "df_new.shape"
   ]
  },
  {
   "cell_type": "markdown",
   "metadata": {},
   "source": [
    "# Percentage loss of data after removing outliers :"
   ]
  },
  {
   "cell_type": "code",
   "execution_count": 60,
   "metadata": {},
   "outputs": [
    {
     "name": "stdout",
     "output_type": "stream",
     "text": [
      "2.5121420197621838\n"
     ]
    }
   ],
   "source": [
    "dfshape = 17913\n",
    "dfnewshape = 17463\n",
    "total = dfshape-dfnewshape\n",
    "percentage_loss=((total)/dfshape)*100   \n",
    "print(percentage_loss)"
   ]
  },
  {
   "cell_type": "markdown",
   "metadata": {},
   "source": [
    "# Preparing dataset for model training :"
   ]
  },
  {
   "cell_type": "code",
   "execution_count": 61,
   "metadata": {},
   "outputs": [],
   "source": [
    "df_x=df_new.drop('Selling_Price',axis=1) #Independent variables\n",
    "y=df_new['Selling_Price'] #Target Variable"
   ]
  },
  {
   "cell_type": "code",
   "execution_count": 62,
   "metadata": {},
   "outputs": [
    {
     "data": {
      "text/html": [
       "<div>\n",
       "<style scoped>\n",
       "    .dataframe tbody tr th:only-of-type {\n",
       "        vertical-align: middle;\n",
       "    }\n",
       "\n",
       "    .dataframe tbody tr th {\n",
       "        vertical-align: top;\n",
       "    }\n",
       "\n",
       "    .dataframe thead th {\n",
       "        text-align: right;\n",
       "    }\n",
       "</style>\n",
       "<table border=\"1\" class=\"dataframe\">\n",
       "  <thead>\n",
       "    <tr style=\"text-align: right;\">\n",
       "      <th></th>\n",
       "      <th>Brand</th>\n",
       "      <th>Variant</th>\n",
       "      <th>Model</th>\n",
       "      <th>Year</th>\n",
       "      <th>Transmission</th>\n",
       "      <th>Fuel</th>\n",
       "      <th>KM_Driven</th>\n",
       "      <th>Location</th>\n",
       "    </tr>\n",
       "  </thead>\n",
       "  <tbody>\n",
       "    <tr>\n",
       "      <th>0</th>\n",
       "      <td>5</td>\n",
       "      <td>16</td>\n",
       "      <td>30</td>\n",
       "      <td>2013</td>\n",
       "      <td>1</td>\n",
       "      <td>2</td>\n",
       "      <td>63000.0</td>\n",
       "      <td>7</td>\n",
       "    </tr>\n",
       "    <tr>\n",
       "      <th>1</th>\n",
       "      <td>0</td>\n",
       "      <td>36</td>\n",
       "      <td>1</td>\n",
       "      <td>2016</td>\n",
       "      <td>0</td>\n",
       "      <td>2</td>\n",
       "      <td>72000.0</td>\n",
       "      <td>17</td>\n",
       "    </tr>\n",
       "    <tr>\n",
       "      <th>2</th>\n",
       "      <td>8</td>\n",
       "      <td>18</td>\n",
       "      <td>2</td>\n",
       "      <td>2016</td>\n",
       "      <td>1</td>\n",
       "      <td>2</td>\n",
       "      <td>37739.0</td>\n",
       "      <td>1</td>\n",
       "    </tr>\n",
       "    <tr>\n",
       "      <th>3</th>\n",
       "      <td>8</td>\n",
       "      <td>36</td>\n",
       "      <td>24</td>\n",
       "      <td>2007</td>\n",
       "      <td>1</td>\n",
       "      <td>2</td>\n",
       "      <td>38000.0</td>\n",
       "      <td>4</td>\n",
       "    </tr>\n",
       "    <tr>\n",
       "      <th>4</th>\n",
       "      <td>8</td>\n",
       "      <td>3</td>\n",
       "      <td>25</td>\n",
       "      <td>2015</td>\n",
       "      <td>1</td>\n",
       "      <td>2</td>\n",
       "      <td>51000.0</td>\n",
       "      <td>21</td>\n",
       "    </tr>\n",
       "  </tbody>\n",
       "</table>\n",
       "</div>"
      ],
      "text/plain": [
       "   Brand  Variant  Model  Year  Transmission  Fuel  KM_Driven  Location\n",
       "0      5       16     30  2013             1     2    63000.0         7\n",
       "1      0       36      1  2016             0     2    72000.0        17\n",
       "2      8       18      2  2016             1     2    37739.0         1\n",
       "3      8       36     24  2007             1     2    38000.0         4\n",
       "4      8        3     25  2015             1     2    51000.0        21"
      ]
     },
     "execution_count": 62,
     "metadata": {},
     "output_type": "execute_result"
    }
   ],
   "source": [
    "#Checking x data\n",
    "df_x.head()"
   ]
  },
  {
   "cell_type": "code",
   "execution_count": 63,
   "metadata": {},
   "outputs": [
    {
     "data": {
      "text/plain": [
       "0     340000.0\n",
       "1    2650000.0\n",
       "2     295000.0\n",
       "3     285000.0\n",
       "4     470000.0\n",
       "Name: Selling_Price, dtype: float64"
      ]
     },
     "execution_count": 63,
     "metadata": {},
     "output_type": "execute_result"
    }
   ],
   "source": [
    "#Checking y data after splitting\n",
    "y.head()"
   ]
  },
  {
   "cell_type": "markdown",
   "metadata": {},
   "source": [
    "# Treating skewness :"
   ]
  },
  {
   "cell_type": "code",
   "execution_count": 64,
   "metadata": {},
   "outputs": [],
   "source": [
    "#We are treating skewness by using square root transform\n",
    "for col in df_x.skew().index:\n",
    "    if col in df_x.describe().columns:\n",
    "        if df_x[col].skew()>0.55:\n",
    "            df_x[col]=np.sqrt(df_x[col])\n",
    "        if df_x[col].skew()<-0.55:\n",
    "            df_x[col]=np.sqrt(df_x[col])"
   ]
  },
  {
   "cell_type": "code",
   "execution_count": 65,
   "metadata": {},
   "outputs": [
    {
     "data": {
      "text/plain": [
       "Brand          -0.251332\n",
       "Variant         0.067599\n",
       "Model          -0.067264\n",
       "Year           -0.059469\n",
       "Transmission   -1.916301\n",
       "Fuel           -1.826748\n",
       "KM_Driven       0.195224\n",
       "Location       -0.081364\n",
       "dtype: float64"
      ]
     },
     "execution_count": 65,
     "metadata": {},
     "output_type": "execute_result"
    }
   ],
   "source": [
    "#Checking skewness after treating it\n",
    "df_x.skew()"
   ]
  },
  {
   "cell_type": "markdown",
   "metadata": {},
   "source": [
    "# Scaling the data :"
   ]
  },
  {
   "cell_type": "code",
   "execution_count": 66,
   "metadata": {},
   "outputs": [
    {
     "data": {
      "text/html": [
       "<div>\n",
       "<style scoped>\n",
       "    .dataframe tbody tr th:only-of-type {\n",
       "        vertical-align: middle;\n",
       "    }\n",
       "\n",
       "    .dataframe tbody tr th {\n",
       "        vertical-align: top;\n",
       "    }\n",
       "\n",
       "    .dataframe thead th {\n",
       "        text-align: right;\n",
       "    }\n",
       "</style>\n",
       "<table border=\"1\" class=\"dataframe\">\n",
       "  <thead>\n",
       "    <tr style=\"text-align: right;\">\n",
       "      <th></th>\n",
       "      <th>Brand</th>\n",
       "      <th>Variant</th>\n",
       "      <th>Model</th>\n",
       "      <th>Year</th>\n",
       "      <th>Transmission</th>\n",
       "      <th>Fuel</th>\n",
       "      <th>KM_Driven</th>\n",
       "      <th>Location</th>\n",
       "    </tr>\n",
       "  </thead>\n",
       "  <tbody>\n",
       "    <tr>\n",
       "      <th>0</th>\n",
       "      <td>-0.533280</td>\n",
       "      <td>-0.213255</td>\n",
       "      <td>1.631385</td>\n",
       "      <td>-0.058207</td>\n",
       "      <td>0.426813</td>\n",
       "      <td>0.728397</td>\n",
       "      <td>0.009725</td>\n",
       "      <td>-0.915092</td>\n",
       "    </tr>\n",
       "    <tr>\n",
       "      <th>1</th>\n",
       "      <td>-2.185166</td>\n",
       "      <td>1.573943</td>\n",
       "      <td>-1.667611</td>\n",
       "      <td>0.785805</td>\n",
       "      <td>-2.342949</td>\n",
       "      <td>0.728397</td>\n",
       "      <td>0.282987</td>\n",
       "      <td>0.223589</td>\n",
       "    </tr>\n",
       "    <tr>\n",
       "      <th>2</th>\n",
       "      <td>0.457851</td>\n",
       "      <td>-0.034535</td>\n",
       "      <td>-1.553852</td>\n",
       "      <td>0.785805</td>\n",
       "      <td>0.426813</td>\n",
       "      <td>0.728397</td>\n",
       "      <td>-0.884837</td>\n",
       "      <td>-1.598301</td>\n",
       "    </tr>\n",
       "    <tr>\n",
       "      <th>3</th>\n",
       "      <td>0.457851</td>\n",
       "      <td>1.573943</td>\n",
       "      <td>0.948834</td>\n",
       "      <td>-1.746232</td>\n",
       "      <td>0.426813</td>\n",
       "      <td>0.728397</td>\n",
       "      <td>-0.874263</td>\n",
       "      <td>-1.256697</td>\n",
       "    </tr>\n",
       "    <tr>\n",
       "      <th>4</th>\n",
       "      <td>0.457851</td>\n",
       "      <td>-1.374934</td>\n",
       "      <td>1.062593</td>\n",
       "      <td>0.504468</td>\n",
       "      <td>0.426813</td>\n",
       "      <td>0.728397</td>\n",
       "      <td>-0.387096</td>\n",
       "      <td>0.679062</td>\n",
       "    </tr>\n",
       "    <tr>\n",
       "      <th>...</th>\n",
       "      <td>...</td>\n",
       "      <td>...</td>\n",
       "      <td>...</td>\n",
       "      <td>...</td>\n",
       "      <td>...</td>\n",
       "      <td>...</td>\n",
       "      <td>...</td>\n",
       "      <td>...</td>\n",
       "    </tr>\n",
       "    <tr>\n",
       "      <th>17458</th>\n",
       "      <td>-0.863657</td>\n",
       "      <td>1.484583</td>\n",
       "      <td>-1.098818</td>\n",
       "      <td>0.785805</td>\n",
       "      <td>0.426813</td>\n",
       "      <td>0.728397</td>\n",
       "      <td>-0.148676</td>\n",
       "      <td>-0.118015</td>\n",
       "    </tr>\n",
       "    <tr>\n",
       "      <th>17459</th>\n",
       "      <td>0.457851</td>\n",
       "      <td>1.037784</td>\n",
       "      <td>-1.212577</td>\n",
       "      <td>1.348480</td>\n",
       "      <td>0.426813</td>\n",
       "      <td>-0.353225</td>\n",
       "      <td>-0.493416</td>\n",
       "      <td>0.337457</td>\n",
       "    </tr>\n",
       "    <tr>\n",
       "      <th>17460</th>\n",
       "      <td>-0.533280</td>\n",
       "      <td>-1.643014</td>\n",
       "      <td>0.266283</td>\n",
       "      <td>-1.183557</td>\n",
       "      <td>0.426813</td>\n",
       "      <td>0.728397</td>\n",
       "      <td>-0.874263</td>\n",
       "      <td>0.565194</td>\n",
       "    </tr>\n",
       "    <tr>\n",
       "      <th>17461</th>\n",
       "      <td>0.457851</td>\n",
       "      <td>0.680344</td>\n",
       "      <td>1.517627</td>\n",
       "      <td>-0.902220</td>\n",
       "      <td>0.426813</td>\n",
       "      <td>0.728397</td>\n",
       "      <td>0.041012</td>\n",
       "      <td>1.020666</td>\n",
       "    </tr>\n",
       "    <tr>\n",
       "      <th>17462</th>\n",
       "      <td>1.448983</td>\n",
       "      <td>-0.928134</td>\n",
       "      <td>0.380042</td>\n",
       "      <td>-2.027570</td>\n",
       "      <td>0.426813</td>\n",
       "      <td>-0.353225</td>\n",
       "      <td>1.604474</td>\n",
       "      <td>1.248403</td>\n",
       "    </tr>\n",
       "  </tbody>\n",
       "</table>\n",
       "<p>17463 rows × 8 columns</p>\n",
       "</div>"
      ],
      "text/plain": [
       "          Brand   Variant     Model      Year  Transmission      Fuel  \\\n",
       "0     -0.533280 -0.213255  1.631385 -0.058207      0.426813  0.728397   \n",
       "1     -2.185166  1.573943 -1.667611  0.785805     -2.342949  0.728397   \n",
       "2      0.457851 -0.034535 -1.553852  0.785805      0.426813  0.728397   \n",
       "3      0.457851  1.573943  0.948834 -1.746232      0.426813  0.728397   \n",
       "4      0.457851 -1.374934  1.062593  0.504468      0.426813  0.728397   \n",
       "...         ...       ...       ...       ...           ...       ...   \n",
       "17458 -0.863657  1.484583 -1.098818  0.785805      0.426813  0.728397   \n",
       "17459  0.457851  1.037784 -1.212577  1.348480      0.426813 -0.353225   \n",
       "17460 -0.533280 -1.643014  0.266283 -1.183557      0.426813  0.728397   \n",
       "17461  0.457851  0.680344  1.517627 -0.902220      0.426813  0.728397   \n",
       "17462  1.448983 -0.928134  0.380042 -2.027570      0.426813 -0.353225   \n",
       "\n",
       "       KM_Driven  Location  \n",
       "0       0.009725 -0.915092  \n",
       "1       0.282987  0.223589  \n",
       "2      -0.884837 -1.598301  \n",
       "3      -0.874263 -1.256697  \n",
       "4      -0.387096  0.679062  \n",
       "...          ...       ...  \n",
       "17458  -0.148676 -0.118015  \n",
       "17459  -0.493416  0.337457  \n",
       "17460  -0.874263  0.565194  \n",
       "17461   0.041012  1.020666  \n",
       "17462   1.604474  1.248403  \n",
       "\n",
       "[17463 rows x 8 columns]"
      ]
     },
     "execution_count": 66,
     "metadata": {},
     "output_type": "execute_result"
    }
   ],
   "source": [
    "#Scaling the dataset using StandardScaler\n",
    "from sklearn.preprocessing import StandardScaler\n",
    "sc=StandardScaler()\n",
    "x=sc.fit_transform(df_x)\n",
    "x=pd.DataFrame(x,columns=df_x.columns)\n",
    "x"
   ]
  },
  {
   "cell_type": "markdown",
   "metadata": {},
   "source": [
    "# Model Building :"
   ]
  },
  {
   "cell_type": "code",
   "execution_count": 67,
   "metadata": {},
   "outputs": [],
   "source": [
    "#Importing required metrices and model for the dataset\n",
    "from sklearn.model_selection import train_test_split, cross_val_score, GridSearchCV\n",
    "from sklearn.linear_model import LinearRegression,Lasso,ElasticNet,Ridge\n",
    "from sklearn.metrics import r2_score, mean_absolute_error,mean_squared_error\n",
    "from sklearn.tree import DecisionTreeRegressor\n",
    "from sklearn.neighbors import KNeighborsRegressor\n",
    "from sklearn.ensemble import RandomForestRegressor, AdaBoostRegressor, GradientBoostingRegressor\n",
    "from sklearn.model_selection import GridSearchCV"
   ]
  },
  {
   "cell_type": "code",
   "execution_count": 68,
   "metadata": {},
   "outputs": [
    {
     "name": "stdout",
     "output_type": "stream",
     "text": [
      "At random state 54 ,the model performs well\n",
      "Training r2_score is:  70.07096576957927\n",
      "Testing r2_score is:  70.13238349195949\n",
      "At random state 58 ,the model performs well\n",
      "Training r2_score is:  70.08423009151878\n",
      "Testing r2_score is:  70.10140926126549\n",
      "At random state 60 ,the model performs well\n",
      "Training r2_score is:  70.08257376435378\n",
      "Testing r2_score is:  70.09190767021569\n",
      "At random state 68 ,the model performs well\n",
      "Training r2_score is:  70.09454430454532\n",
      "Testing r2_score is:  70.0619973058046\n",
      "At random state 83 ,the model performs well\n",
      "Training r2_score is:  70.09747101108337\n",
      "Testing r2_score is:  70.05752733796045\n",
      "At random state 88 ,the model performs well\n",
      "Training r2_score is:  70.08974187727294\n",
      "Testing r2_score is:  70.05907571962359\n"
     ]
    }
   ],
   "source": [
    "#Finding the best random state and r2_score\n",
    "for i in range(42,100):\n",
    "    x_train,x_test,y_train,y_test=train_test_split(x,y,test_size=.20,random_state=i)\n",
    "    lr=LinearRegression()\n",
    "    lr.fit(x_train,y_train)\n",
    "    pred_train=lr.predict(x_train)\n",
    "    pred_test=lr.predict(x_test)\n",
    "    if round(r2_score(y_train,pred_train)*100,1)==round(r2_score(y_test,pred_test)*100,1):\n",
    "        print('At random state',i,',the model performs well')\n",
    "        print('Training r2_score is: ',r2_score(y_train,pred_train)*100)\n",
    "        print('Testing r2_score is: ',r2_score(y_test,pred_test)*100)"
   ]
  },
  {
   "cell_type": "code",
   "execution_count": 69,
   "metadata": {},
   "outputs": [],
   "source": [
    "#Creating train_test_split using best random_state\n",
    "x_train,x_test,y_train,y_test=train_test_split(x,y,random_state=60,test_size=.20)"
   ]
  },
  {
   "cell_type": "markdown",
   "metadata": {},
   "source": [
    "# Finding the best model :"
   ]
  },
  {
   "cell_type": "code",
   "execution_count": 70,
   "metadata": {},
   "outputs": [],
   "source": [
    "LR=LinearRegression()\n",
    "l=Lasso()\n",
    "en=ElasticNet()\n",
    "rd=Ridge()\n",
    "dtr=DecisionTreeRegressor()\n",
    "knr=KNeighborsRegressor()\n",
    "rf=RandomForestRegressor()\n",
    "ab=AdaBoostRegressor()\n",
    "gb=GradientBoostingRegressor()"
   ]
  },
  {
   "cell_type": "code",
   "execution_count": 71,
   "metadata": {},
   "outputs": [],
   "source": [
    "models= []\n",
    "models.append(('Linear Regression',LR))\n",
    "models.append(('Lasso Regression',l))\n",
    "models.append(('Elastic Net Regression',en))\n",
    "models.append(('Ridge Regression',rd))\n",
    "models.append(('Decision Tree Regressor',dtr))\n",
    "models.append(('KNeighbors Regressor',knr))\n",
    "models.append(('RandomForestRegressor',rf))\n",
    "models.append(('AdaBoostRegressor',ab))\n",
    "models.append(('GradientBoostingRegressor',gb))"
   ]
  },
  {
   "cell_type": "code",
   "execution_count": 72,
   "metadata": {
    "scrolled": true
   },
   "outputs": [
    {
     "name": "stdout",
     "output_type": "stream",
     "text": [
      "****************************** Linear Regression ***************************\n",
      "\n",
      "\n",
      "LinearRegression()\n",
      "\n",
      "\n",
      "r2_score:  0.7009190767021569\n",
      "\n",
      "\n",
      "Standard Deviation:  0.004176297129112747\n",
      "\n",
      "\n",
      "Mean Absolute Error:  186690.21999500436\n",
      "\n",
      "\n",
      "Mean Squared Error:  75072876505.13025\n",
      "\n",
      "\n",
      "Root Mean Squared Error:  273994.300132558\n",
      "\n",
      "\n",
      "\n",
      "****************************** Lasso Regression ***************************\n",
      "\n",
      "\n",
      "Lasso()\n",
      "\n",
      "\n",
      "r2_score:  0.7009187514017794\n",
      "\n",
      "\n",
      "Standard Deviation:  0.004176488155667048\n",
      "\n",
      "\n",
      "Mean Absolute Error:  186689.664186288\n",
      "\n",
      "\n",
      "Mean Squared Error:  75072958159.40227\n",
      "\n",
      "\n",
      "Root Mean Squared Error:  273994.4491397632\n",
      "\n",
      "\n",
      "\n",
      "****************************** Elastic Net Regression ***************************\n",
      "\n",
      "\n",
      "ElasticNet()\n",
      "\n",
      "\n",
      "r2_score:  0.6035359531868805\n",
      "\n",
      "\n",
      "Standard Deviation:  0.010418121774755689\n",
      "\n",
      "\n",
      "Mean Absolute Error:  198821.12051002315\n",
      "\n",
      "\n",
      "Mean Squared Error:  99517201220.77126\n",
      "\n",
      "\n",
      "Root Mean Squared Error:  315463.470501374\n",
      "\n",
      "\n",
      "\n",
      "****************************** Ridge Regression ***************************\n",
      "\n",
      "\n",
      "Ridge()\n",
      "\n",
      "\n",
      "r2_score:  0.7009166171917083\n",
      "\n",
      "\n",
      "Standard Deviation:  0.004178969373923639\n",
      "\n",
      "\n",
      "Mean Absolute Error:  186683.6670608455\n",
      "\n",
      "\n",
      "Mean Squared Error:  75073493871.56787\n",
      "\n",
      "\n",
      "Root Mean Squared Error:  273995.42673476844\n",
      "\n",
      "\n",
      "\n",
      "****************************** Decision Tree Regressor ***************************\n",
      "\n",
      "\n",
      "DecisionTreeRegressor()\n",
      "\n",
      "\n",
      "r2_score:  0.9850460393947519\n",
      "\n",
      "\n",
      "Standard Deviation:  0.004318084828754123\n",
      "\n",
      "\n",
      "Mean Absolute Error:  26412.785451393756\n",
      "\n",
      "\n",
      "Mean Squared Error:  3753622348.7660604\n",
      "\n",
      "\n",
      "Root Mean Squared Error:  61266.81278445991\n",
      "\n",
      "\n",
      "\n",
      "****************************** KNeighbors Regressor ***************************\n",
      "\n",
      "\n",
      "KNeighborsRegressor()\n",
      "\n",
      "\n",
      "r2_score:  0.9839368925798914\n",
      "\n",
      "\n",
      "Standard Deviation:  0.0057113044059591\n",
      "\n",
      "\n",
      "Mean Absolute Error:  28907.33724592041\n",
      "\n",
      "\n",
      "Mean Squared Error:  4032031419.2608876\n",
      "\n",
      "\n",
      "Root Mean Squared Error:  63498.27886849287\n",
      "\n",
      "\n",
      "\n",
      "****************************** RandomForestRegressor ***************************\n",
      "\n",
      "\n",
      "RandomForestRegressor()\n",
      "\n",
      "\n",
      "r2_score:  0.9850450182455533\n",
      "\n",
      "\n",
      "Standard Deviation:  0.004282132774484586\n",
      "\n",
      "\n",
      "Mean Absolute Error:  26405.14046945697\n",
      "\n",
      "\n",
      "Mean Squared Error:  3753878669.386033\n",
      "\n",
      "\n",
      "Root Mean Squared Error:  61268.90458777628\n",
      "\n",
      "\n",
      "\n",
      "****************************** AdaBoostRegressor ***************************\n",
      "\n",
      "\n",
      "AdaBoostRegressor()\n",
      "\n",
      "\n",
      "r2_score:  0.9107886626550117\n",
      "\n",
      "\n",
      "Standard Deviation:  0.006218416463179586\n",
      "\n",
      "\n",
      "Mean Absolute Error:  113764.21943803274\n",
      "\n",
      "\n",
      "Mean Squared Error:  22393108987.05561\n",
      "\n",
      "\n",
      "Root Mean Squared Error:  149643.2724416825\n",
      "\n",
      "\n",
      "\n",
      "****************************** GradientBoostingRegressor ***************************\n",
      "\n",
      "\n",
      "GradientBoostingRegressor()\n",
      "\n",
      "\n",
      "r2_score:  0.9848465916269065\n",
      "\n",
      "\n",
      "Standard Deviation:  0.0040595520556825195\n",
      "\n",
      "\n",
      "Mean Absolute Error:  27887.261474512907\n",
      "\n",
      "\n",
      "Mean Squared Error:  3803686115.721113\n",
      "\n",
      "\n",
      "Root Mean Squared Error:  61674.031129164185\n",
      "\n",
      "\n",
      "\n"
     ]
    }
   ],
   "source": [
    "#Finding the required metrices for all models together using a for loop\n",
    "Model=[]\n",
    "score=[]\n",
    "cvs=[]\n",
    "sd=[]\n",
    "mae=[]\n",
    "mse=[]\n",
    "rmse=[]\n",
    "for name,model in models:\n",
    "    print('******************************',name,'***************************')\n",
    "    print('\\n')\n",
    "    Model.append(name)\n",
    "    model.fit(x_train,y_train)\n",
    "    print(model)\n",
    "    pre=model.predict(x_test)\n",
    "    print('\\n')\n",
    "    AS=r2_score(y_test,pre)\n",
    "    print('r2_score: ',AS)\n",
    "    score.append(AS*100)\n",
    "    print('\\n')\n",
    "    std=cross_val_score(model,x,y,cv=5,scoring='r2').std()\n",
    "    print('Standard Deviation: ',std)\n",
    "    sd.append(std)\n",
    "    print('\\n')\n",
    "    MAE=mean_absolute_error(y_test,pre)\n",
    "    print('Mean Absolute Error: ',MAE)\n",
    "    mae.append(MAE)\n",
    "    print('\\n')\n",
    "    MSE=mean_squared_error(y_test,pre)\n",
    "    print('Mean Squared Error: ',MSE)\n",
    "    mse.append(MSE)\n",
    "    print('\\n')\n",
    "    RMSE=np.sqrt(mean_squared_error(y_test,pre))\n",
    "    print('Root Mean Squared Error: ',RMSE)\n",
    "    rmse.append(RMSE)\n",
    "    print('\\n\\n')"
   ]
  },
  {
   "cell_type": "code",
   "execution_count": 73,
   "metadata": {},
   "outputs": [
    {
     "data": {
      "text/html": [
       "<div>\n",
       "<style scoped>\n",
       "    .dataframe tbody tr th:only-of-type {\n",
       "        vertical-align: middle;\n",
       "    }\n",
       "\n",
       "    .dataframe tbody tr th {\n",
       "        vertical-align: top;\n",
       "    }\n",
       "\n",
       "    .dataframe thead th {\n",
       "        text-align: right;\n",
       "    }\n",
       "</style>\n",
       "<table border=\"1\" class=\"dataframe\">\n",
       "  <thead>\n",
       "    <tr style=\"text-align: right;\">\n",
       "      <th></th>\n",
       "      <th>Model</th>\n",
       "      <th>r2_score</th>\n",
       "      <th>Standard_deviation</th>\n",
       "      <th>Mean_absolute_error</th>\n",
       "      <th>Mean_squared_error</th>\n",
       "      <th>Root_Mean_Squared_error</th>\n",
       "    </tr>\n",
       "  </thead>\n",
       "  <tbody>\n",
       "    <tr>\n",
       "      <th>0</th>\n",
       "      <td>Linear Regression</td>\n",
       "      <td>70.091908</td>\n",
       "      <td>0.004176</td>\n",
       "      <td>186690.219995</td>\n",
       "      <td>7.507288e+10</td>\n",
       "      <td>273994.300133</td>\n",
       "    </tr>\n",
       "    <tr>\n",
       "      <th>1</th>\n",
       "      <td>Lasso Regression</td>\n",
       "      <td>70.091875</td>\n",
       "      <td>0.004176</td>\n",
       "      <td>186689.664186</td>\n",
       "      <td>7.507296e+10</td>\n",
       "      <td>273994.449140</td>\n",
       "    </tr>\n",
       "    <tr>\n",
       "      <th>2</th>\n",
       "      <td>Elastic Net Regression</td>\n",
       "      <td>60.353595</td>\n",
       "      <td>0.010418</td>\n",
       "      <td>198821.120510</td>\n",
       "      <td>9.951720e+10</td>\n",
       "      <td>315463.470501</td>\n",
       "    </tr>\n",
       "    <tr>\n",
       "      <th>3</th>\n",
       "      <td>Ridge Regression</td>\n",
       "      <td>70.091662</td>\n",
       "      <td>0.004179</td>\n",
       "      <td>186683.667061</td>\n",
       "      <td>7.507349e+10</td>\n",
       "      <td>273995.426735</td>\n",
       "    </tr>\n",
       "    <tr>\n",
       "      <th>4</th>\n",
       "      <td>Decision Tree Regressor</td>\n",
       "      <td>98.504604</td>\n",
       "      <td>0.004318</td>\n",
       "      <td>26412.785451</td>\n",
       "      <td>3.753622e+09</td>\n",
       "      <td>61266.812784</td>\n",
       "    </tr>\n",
       "    <tr>\n",
       "      <th>5</th>\n",
       "      <td>KNeighbors Regressor</td>\n",
       "      <td>98.393689</td>\n",
       "      <td>0.005711</td>\n",
       "      <td>28907.337246</td>\n",
       "      <td>4.032031e+09</td>\n",
       "      <td>63498.278868</td>\n",
       "    </tr>\n",
       "    <tr>\n",
       "      <th>6</th>\n",
       "      <td>RandomForestRegressor</td>\n",
       "      <td>98.504502</td>\n",
       "      <td>0.004282</td>\n",
       "      <td>26405.140469</td>\n",
       "      <td>3.753879e+09</td>\n",
       "      <td>61268.904588</td>\n",
       "    </tr>\n",
       "    <tr>\n",
       "      <th>7</th>\n",
       "      <td>AdaBoostRegressor</td>\n",
       "      <td>91.078866</td>\n",
       "      <td>0.006218</td>\n",
       "      <td>113764.219438</td>\n",
       "      <td>2.239311e+10</td>\n",
       "      <td>149643.272442</td>\n",
       "    </tr>\n",
       "    <tr>\n",
       "      <th>8</th>\n",
       "      <td>GradientBoostingRegressor</td>\n",
       "      <td>98.484659</td>\n",
       "      <td>0.004060</td>\n",
       "      <td>27887.261475</td>\n",
       "      <td>3.803686e+09</td>\n",
       "      <td>61674.031129</td>\n",
       "    </tr>\n",
       "  </tbody>\n",
       "</table>\n",
       "</div>"
      ],
      "text/plain": [
       "                       Model   r2_score  Standard_deviation  \\\n",
       "0          Linear Regression  70.091908            0.004176   \n",
       "1           Lasso Regression  70.091875            0.004176   \n",
       "2     Elastic Net Regression  60.353595            0.010418   \n",
       "3           Ridge Regression  70.091662            0.004179   \n",
       "4    Decision Tree Regressor  98.504604            0.004318   \n",
       "5       KNeighbors Regressor  98.393689            0.005711   \n",
       "6      RandomForestRegressor  98.504502            0.004282   \n",
       "7          AdaBoostRegressor  91.078866            0.006218   \n",
       "8  GradientBoostingRegressor  98.484659            0.004060   \n",
       "\n",
       "   Mean_absolute_error  Mean_squared_error  Root_Mean_Squared_error  \n",
       "0        186690.219995        7.507288e+10            273994.300133  \n",
       "1        186689.664186        7.507296e+10            273994.449140  \n",
       "2        198821.120510        9.951720e+10            315463.470501  \n",
       "3        186683.667061        7.507349e+10            273995.426735  \n",
       "4         26412.785451        3.753622e+09             61266.812784  \n",
       "5         28907.337246        4.032031e+09             63498.278868  \n",
       "6         26405.140469        3.753879e+09             61268.904588  \n",
       "7        113764.219438        2.239311e+10            149643.272442  \n",
       "8         27887.261475        3.803686e+09             61674.031129  "
      ]
     },
     "execution_count": 73,
     "metadata": {},
     "output_type": "execute_result"
    }
   ],
   "source": [
    "#Finalizing the result\n",
    "result=pd.DataFrame({'Model':Model, 'r2_score': score, 'Standard_deviation':sd,\n",
    "                    'Mean_absolute_error':mae, 'Mean_squared_error':mse, 'Root_Mean_Squared_error':rmse})\n",
    "result"
   ]
  },
  {
   "cell_type": "markdown",
   "metadata": {},
   "source": [
    "# Hyperparameter Tuning :\n",
    "#    Random Forest Regressor"
   ]
  },
  {
   "cell_type": "code",
   "execution_count": 74,
   "metadata": {},
   "outputs": [],
   "source": [
    "#Creating parameter list to pass in GridSearchCV\n",
    "parameters={'criterion':['mse','mae'],'n_estimators':[50,100,500],'max_features':['auto','sqrt','log2']}"
   ]
  },
  {
   "cell_type": "code",
   "execution_count": 75,
   "metadata": {},
   "outputs": [
    {
     "name": "stdout",
     "output_type": "stream",
     "text": [
      "{'criterion': 'mse', 'max_features': 'auto', 'n_estimators': 50}\n",
      "0.984574811251329\n"
     ]
    }
   ],
   "source": [
    "#Using GridSearchCV to run the parameters and checking final accuracy\n",
    "rf=RandomForestRegressor()\n",
    "grid=GridSearchCV(rf,parameters,cv=5,scoring='r2')\n",
    "grid.fit(x_train,y_train)\n",
    "print(grid.best_params_) #Printing the best parameters obtained\n",
    "print(grid.best_score_) #Mean cross-validated score of best_estimator"
   ]
  },
  {
   "cell_type": "code",
   "execution_count": 76,
   "metadata": {},
   "outputs": [
    {
     "name": "stdout",
     "output_type": "stream",
     "text": [
      "r2_score:  98.50456691899329\n",
      "Standard deviation:  0.004344321397752803\n",
      "Mean absolute error:  26420.99733115128\n",
      "Mean squared error:  3753715274.588142\n",
      "Root Mean squared error:  61267.57114973746\n"
     ]
    }
   ],
   "source": [
    "#Using the best parameters obtained\n",
    "RF=RandomForestRegressor(random_state=48, n_estimators=500, criterion='mse', max_features='log2')\n",
    "RF.fit(x_train,y_train)\n",
    "pred=RF.predict(x_test)\n",
    "print('r2_score: ',r2_score(y_test,pred)*100)\n",
    "print('Standard deviation: ',cross_val_score(RF,x,y,cv=5,scoring='r2').std())\n",
    "print('Mean absolute error: ',mean_absolute_error(y_test,pred))\n",
    "print('Mean squared error: ',mean_squared_error(y_test,pred))\n",
    "print('Root Mean squared error: ',np.sqrt(mean_squared_error(y_test,pred)))"
   ]
  },
  {
   "cell_type": "markdown",
   "metadata": {},
   "source": [
    "# Finalizing the model :"
   ]
  },
  {
   "cell_type": "code",
   "execution_count": 77,
   "metadata": {},
   "outputs": [
    {
     "name": "stdout",
     "output_type": "stream",
     "text": [
      "Predictions of Random Forest Regressor:  [ 329216.98054833 2389843.39078276  317941.42744627 ...  137383.0514037\n",
      "  162438.04850012  280580.94305981]\n"
     ]
    }
   ],
   "source": [
    "rf_prediction=RF.predict(x)\n",
    "print('Predictions of Random Forest Regressor: ',rf_prediction)"
   ]
  },
  {
   "cell_type": "code",
   "execution_count": 78,
   "metadata": {},
   "outputs": [
    {
     "data": {
      "text/html": [
       "<div>\n",
       "<style scoped>\n",
       "    .dataframe tbody tr th:only-of-type {\n",
       "        vertical-align: middle;\n",
       "    }\n",
       "\n",
       "    .dataframe tbody tr th {\n",
       "        vertical-align: top;\n",
       "    }\n",
       "\n",
       "    .dataframe thead th {\n",
       "        text-align: right;\n",
       "    }\n",
       "</style>\n",
       "<table border=\"1\" class=\"dataframe\">\n",
       "  <thead>\n",
       "    <tr style=\"text-align: right;\">\n",
       "      <th></th>\n",
       "      <th>Original_price</th>\n",
       "      <th>Predicted_price</th>\n",
       "    </tr>\n",
       "  </thead>\n",
       "  <tbody>\n",
       "    <tr>\n",
       "      <th>0</th>\n",
       "      <td>340000.0</td>\n",
       "      <td>3.292170e+05</td>\n",
       "    </tr>\n",
       "    <tr>\n",
       "      <th>1</th>\n",
       "      <td>2650000.0</td>\n",
       "      <td>2.389843e+06</td>\n",
       "    </tr>\n",
       "    <tr>\n",
       "      <th>2</th>\n",
       "      <td>295000.0</td>\n",
       "      <td>3.179414e+05</td>\n",
       "    </tr>\n",
       "    <tr>\n",
       "      <th>3</th>\n",
       "      <td>285000.0</td>\n",
       "      <td>2.853192e+05</td>\n",
       "    </tr>\n",
       "    <tr>\n",
       "      <th>4</th>\n",
       "      <td>470000.0</td>\n",
       "      <td>4.672959e+05</td>\n",
       "    </tr>\n",
       "    <tr>\n",
       "      <th>...</th>\n",
       "      <td>...</td>\n",
       "      <td>...</td>\n",
       "    </tr>\n",
       "    <tr>\n",
       "      <th>17995</th>\n",
       "      <td>675000.0</td>\n",
       "      <td>6.651467e+05</td>\n",
       "    </tr>\n",
       "    <tr>\n",
       "      <th>17996</th>\n",
       "      <td>799999.0</td>\n",
       "      <td>7.799048e+05</td>\n",
       "    </tr>\n",
       "    <tr>\n",
       "      <th>17997</th>\n",
       "      <td>160000.0</td>\n",
       "      <td>1.373831e+05</td>\n",
       "    </tr>\n",
       "    <tr>\n",
       "      <th>17998</th>\n",
       "      <td>160000.0</td>\n",
       "      <td>1.624380e+05</td>\n",
       "    </tr>\n",
       "    <tr>\n",
       "      <th>17999</th>\n",
       "      <td>330000.0</td>\n",
       "      <td>2.805809e+05</td>\n",
       "    </tr>\n",
       "  </tbody>\n",
       "</table>\n",
       "<p>17463 rows × 2 columns</p>\n",
       "</div>"
      ],
      "text/plain": [
       "       Original_price  Predicted_price\n",
       "0            340000.0     3.292170e+05\n",
       "1           2650000.0     2.389843e+06\n",
       "2            295000.0     3.179414e+05\n",
       "3            285000.0     2.853192e+05\n",
       "4            470000.0     4.672959e+05\n",
       "...               ...              ...\n",
       "17995        675000.0     6.651467e+05\n",
       "17996        799999.0     7.799048e+05\n",
       "17997        160000.0     1.373831e+05\n",
       "17998        160000.0     1.624380e+05\n",
       "17999        330000.0     2.805809e+05\n",
       "\n",
       "[17463 rows x 2 columns]"
      ]
     },
     "execution_count": 78,
     "metadata": {},
     "output_type": "execute_result"
    }
   ],
   "source": [
    "#Comparing actual and predicted values with the help of a dataframe\n",
    "predictions=pd.DataFrame({'Original_price':y, 'Predicted_price':rf_prediction})\n",
    "predictions"
   ]
  },
  {
   "cell_type": "markdown",
   "metadata": {},
   "source": [
    "# Saving the model :"
   ]
  },
  {
   "cell_type": "code",
   "execution_count": 79,
   "metadata": {},
   "outputs": [],
   "source": [
    "#Saving the model\n",
    "import pickle\n",
    "filename='Car_Price_Prediction.pkl'   #Specifying the filename\n",
    "pickle.dump(RF,open(filename,'wb'))"
   ]
  },
  {
   "cell_type": "code",
   "execution_count": 80,
   "metadata": {},
   "outputs": [],
   "source": [
    "#Saving the predicted values\n",
    "results=pd.DataFrame(rf_prediction)\n",
    "results.to_csv('Car_Price_Prediction_Results.csv')"
   ]
  },
  {
   "cell_type": "markdown",
   "metadata": {},
   "source": [
    "# Conclusion:"
   ]
  },
  {
   "cell_type": "markdown",
   "metadata": {},
   "source": [
    "# Key Findings and Conclusions of the Study:\n",
    "    We collected the used cars data from olx and it was done by using Web scraping. The framework used for web scraping was Selenium, which has an advantage of automating our process of collecting data. We collected almost 18000 of data which contained the selling price and other related features.Then, the scrapped data was combined in a single data frame and saved in a csv file so that we can open it and analyse the data.We did data cleaning, data-preprocessing steps like finding and handling null values, removing words from numbers, converting object to int type, data visualization, handling outliers, etc.After separating our train and test data, we started running different machine learning classification algorithms to find out the best performing model.We found that RandomForest and KNeighbors Algorithms were performing well, according to their r2_score and cross val scores.Then, we performed Hyperparameter Tuning techniques using GridSearchCV for getting the best parameters and improving the scores. In that, RandomForestRegressor performed well and we finalised that model.We saved the model in pkl format and then saved the predicted values in a csv format.\n",
    "\n",
    "# The problems we faced during this project were:\n",
    "\n",
    "    No information for handling these fast-paced websites were informed so that we were consuming more time in web scraping itself. Many outliers were removed as some of the selling price and km values were out of range.\n"
   ]
  },
  {
   "cell_type": "code",
   "execution_count": null,
   "metadata": {},
   "outputs": [],
   "source": []
  },
  {
   "cell_type": "code",
   "execution_count": null,
   "metadata": {},
   "outputs": [],
   "source": []
  }
 ],
 "metadata": {
  "kernelspec": {
   "display_name": "Python 3",
   "language": "python",
   "name": "python3"
  },
  "language_info": {
   "codemirror_mode": {
    "name": "ipython",
    "version": 3
   },
   "file_extension": ".py",
   "mimetype": "text/x-python",
   "name": "python",
   "nbconvert_exporter": "python",
   "pygments_lexer": "ipython3",
   "version": "3.8.5"
  }
 },
 "nbformat": 4,
 "nbformat_minor": 4
}
